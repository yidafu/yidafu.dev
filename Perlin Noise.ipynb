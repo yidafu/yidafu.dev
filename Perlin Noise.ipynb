{
 "cells": [
  {
   "cell_type": "raw",
   "id": "adac2f75",
   "metadata": {
    "vscode": {
     "languageId": "raw"
    }
   },
   "source": [
    "---\n",
    "title: \"Perlin Noise Algorithm\"\n",
    "cover: ./images/perlin-noise.png\n",
    "---"
   ]
  },
  {
   "cell_type": "markdown",
   "id": "bd2dc786",
   "metadata": {},
   "source": [
    "# Perlin Noise\n",
    "\n",
    "Perlin Noise 算法介绍"
   ]
  },
  {
   "cell_type": "markdown",
   "id": "44fc8651",
   "metadata": {},
   "source": [
    "### 定义 Vector2\n",
    "\n",
    "`Vector2` 表示坐标系里的一个点。\n",
    "实现坐标点乘。"
   ]
  },
  {
   "cell_type": "code",
   "execution_count": 18,
   "id": "97d56de9",
   "metadata": {},
   "outputs": [
    {
     "data": {
      "text/plain": [
       "4.0"
      ]
     },
     "execution_count": 18,
     "metadata": {},
     "output_type": "execute_result"
    }
   ],
   "source": [
    "data class Vector2(val x: Double, val y: Double) {\n",
    "    operator fun times(other: Vector2): Double {\n",
    "        return this.x * other.x + this.y * other.y;\n",
    "    }\n",
    "}\n",
    "\n",
    "// 测试\n",
    "Vector2(1.0, 2.0) * Vector2(2.0, 1.0)"
   ]
  },
  {
   "cell_type": "code",
   "execution_count": null,
   "id": "4509aa07",
   "metadata": {},
   "outputs": [],
   "source": [
    "USE {\n",
    "    repositories {\n",
    "        maven(\"https://s01.oss.sonatype.org/content/repositories/releases/\")\n",
    "        mavenCentral()\n",
    "    }\n",
    "\n",
    "    dependencies {\n",
    "        implementation(\"dev.yidafu.jupyter:jupyter-js:0.7.0\")\n",
    "        implementation(\"org.jetbrains.kotlinx:kandy-lets-plot:0.7.0\")\n",
    "    }\n",
    "}"
   ]
  },
  {
   "cell_type": "markdown",
   "id": "def8b8d1",
   "metadata": {},
   "source": [
    "# 先实现生成 500 * 500 的灰度图\n",
    "\n"
   ]
  },
  {
   "cell_type": "code",
   "execution_count": null,
   "id": "4a24fa70",
   "metadata": {},
   "outputs": [],
   "source": [
    "import java.awt.Color\n",
    "import java.awt.image.BufferedImage\n",
    "import java.io.ByteArrayOutputStream\n",
    "import kotlin.random.Random\n",
    "import java.io.IOException\n",
    "import java.net.URL\n",
    "\n",
    "\n",
    "val width: Int = 500;\n",
    "val height: Int = 500;\n",
    "\n",
    "val image = BufferedImage(width, height, BufferedImage.TYPE_INT_ARGB)\n",
    "\n",
    "for (y in 0 until height) {\n",
    "    for (x in 0 until width) {\n",
    "        // 生成一个 0 到 255 之间的随机灰度值\n",
    "        val grayValue = Random.nextInt(0, 256)\n",
    "        // 设置像素的颜色\n",
    "        image.setRGB(x, y, Color(grayValue, grayValue, grayValue).rgb)\n",
    "    }\n",
    "}\n",
    "\n",
    "image"
   ]
  },
  {
   "cell_type": "markdown",
   "id": "5bd853b0",
   "metadata": {},
   "source": [
    "### 生成 `permutation table`\n",
    "\n",
    "<https://cs.nyu.edu/~perlin/noise/> \n",
    "\n",
    "示例：\n",
    "```js\n",
    "[\n",
    "   151,160,137,91,90,15,\n",
    "   131,13,201,95,96,53,194,233,7,225,140,36,103,30,69,142,8,99,37,240,21,10,23,\n",
    "   190, 6,148,247,120,234,75,0,26,197,62,94,252,219,203,117,35,11,32,57,177,33,\n",
    "   88,237,149,56,87,174,20,125,136,171,168, 68,175,74,165,71,134,139,48,27,166,\n",
    "   77,146,158,231,83,111,229,122,60,211,133,230,220,105,92,41,55,46,245,40,244,\n",
    "   102,143,54, 65,25,63,161, 1,216,80,73,209,76,132,187,208, 89,18,169,200,196,\n",
    "   135,130,116,188,159,86,164,100,109,198,173,186, 3,64,52,217,226,250,124,123,\n",
    "   5,202,38,147,118,126,255,82,85,212,207,206,59,227,47,16,58,17,182,189,28,42,\n",
    "   223,183,170,213,119,248,152, 2,44,154,163, 70,221,153,101,155,167, 43,172,9,\n",
    "   129,22,39,253, 19,98,108,110,79,113,224,232,178,185, 112,104,218,246,97,228,\n",
    "   251,34,242,193,238,210,144,12,191,179,162,241, 81,51,145,235,249,14,239,107,\n",
    "   49,192,214, 31,181,199,106,157,184, 84,204,176,115,121,50,45,127, 4,150,254,\n",
    "   138,236,205,93,222,114,67,29,24,72,243,141,128,195,78,66,215,61,156,180\n",
    "]\n",
    "```"
   ]
  },
  {
   "cell_type": "code",
   "execution_count": null,
   "id": "b4c0e403",
   "metadata": {},
   "outputs": [],
   "source": [
    "// 为了方便观察，写死 permutation table\n",
    "fun createPermutationTable(): List<Int> {\n",
    "    val list = listOf(\n",
    "     151,160,137,91,90,15,\n",
    "   131,13,201,95,96,53,194,233,7,225,140,36,103,30,69,142,8,99,37,240,21,10,23,\n",
    "   190, 6,148,247,120,234,75,0,26,197,62,94,252,219,203,117,35,11,32,57,177,33,\n",
    "   88,237,149,56,87,174,20,125,136,171,168, 68,175,74,165,71,134,139,48,27,166,\n",
    "   77,146,158,231,83,111,229,122,60,211,133,230,220,105,92,41,55,46,245,40,244,\n",
    "   102,143,54, 65,25,63,161, 1,216,80,73,209,76,132,187,208, 89,18,169,200,196,\n",
    "   135,130,116,188,159,86,164,100,109,198,173,186, 3,64,52,217,226,250,124,123,\n",
    "   5,202,38,147,118,126,255,82,85,212,207,206,59,227,47,16,58,17,182,189,28,42,\n",
    "   223,183,170,213,119,248,152, 2,44,154,163, 70,221,153,101,155,167, 43,172,9,\n",
    "   129,22,39,253, 19,98,108,110,79,113,224,232,178,185, 112,104,218,246,97,228,\n",
    "   251,34,242,193,238,210,144,12,191,179,162,241, 81,51,145,235,249,14,239,107,\n",
    "   49,192,214, 31,181,199,106,157,184, 84,204,176,115,121,50,45,127, 4,150,254,\n",
    "   138,236,205,93,222,114,67,29,24,72,243,141,128,195,78,66,215,61,156,180\n",
    "    )\n",
    "    return list + list\n",
    "//     val list = MutableList<Int>(256) { it }\n",
    "//     val list2 =  list.shuffled()\n",
    "//     return (list2 + list2)\n",
    "}\n",
    "\n",
    "val P = createPermutationTable()"
   ]
  },
  {
   "cell_type": "markdown",
   "id": "34cc5fad",
   "metadata": {},
   "source": [
    "### 展示 permutation table"
   ]
  },
  {
   "cell_type": "code",
   "execution_count": null,
   "id": "bc8a5002",
   "metadata": {},
   "outputs": [],
   "source": [
    "\n",
    "\n",
    "import org.jetbrains.kotlinx.kandy.util.color.Color as KColor\n",
    "\n",
    "val permutationData:  Map<String, List<Int>>  = mapOf(\n",
    "    \"index\" to     (1..512).toList(),\n",
    "    \"permutation\" to P,\n",
    ");\n",
    "\n",
    "plot(permutationData) {\n",
    "    x(\"index\")\n",
    "    y(\"permutation\")\n",
    "\n",
    "\n",
    "    points {\n",
    "        color = KColor.RED\n",
    "        symbol = Symbol.CIRCLE\n",
    "        size = 2.5\n",
    "    }\n",
    "\n",
    "    line {\n",
    "        color = KColor.BLUE\n",
    "    }\n",
    "}"
   ]
  },
  {
   "cell_type": "markdown",
   "id": "b3ee79ba",
   "metadata": {},
   "source": [
    "### 展示 permutation table\n",
    "\n",
    "直接 permutation table 转为灰度图\n",
    "\n",
    "(x,y) 取值公式是：`V = P[ P[x] + y ]`。\n",
    "\n",
    "会在 P 上的点，会跳一次。先取到 `x` 位置的值 V<sub>x</sub>，V<sub>x</sub> + y 位置的值 `V<sub>x2<sub>`。（x,y)对应的值就是 `V<sub>x2<sub>`\n",
    "\n",
    "假设有 `P = [3,2,1,4, 232, ... ]`\n",
    "    \n",
    "（2, 1) 坐标对应的值就是 `P[ P[2] + 1 ]` ==> `P[ 1 + 1 ]` ==>  `P[ 2 ]` ==> `4`"
   ]
  },
  {
   "cell_type": "code",
   "execution_count": null,
   "id": "075f89a4",
   "metadata": {},
   "outputs": [],
   "source": [
    "val pImage = BufferedImage(width, height, BufferedImage.TYPE_INT_ARGB)\n",
    "\n",
    "for (y in 0 until 255) {\n",
    "    for (x in 0 until 255) {\n",
    "        // 生成一个 0 到 255 之间的随机灰度值\n",
    "        val grayValue = P[ P[x] + y ]\n",
    "        // 设置像素的颜色\n",
    "        pImage.setRGB(x, y, Color(grayValue, grayValue, grayValue).rgb)\n",
    "    }\n",
    "}\n",
    "\n",
    "pImage"
   ]
  },
  {
   "cell_type": "code",
   "execution_count": null,
   "id": "db4fa68e",
   "metadata": {},
   "outputs": [],
   "source": [
    "// 获取常数向量\n",
    "fun GetConstantVector(v: Int): Vector2 {\n",
    "    // v is the value from the permutation table\n",
    "    val h = v and 3;\n",
    "    return when(h) {\n",
    "        0 -> Vector2(1.0, 1.0)\n",
    "        1 -> Vector2(-1.0, 1.0);\n",
    "        2 -> Vector2(-1.0, -1.0)\n",
    "        else -> Vector2(1.0, -1.0)\n",
    "    }\n",
    "}"
   ]
  },
  {
   "cell_type": "code",
   "execution_count": null,
   "id": "ba02dda0",
   "metadata": {},
   "outputs": [],
   "source": [
    "val xStart = mutableListOf<Int>()\n",
    "val yStart = mutableListOf<Int>()\n",
    "val xEnd = mutableListOf<Int>()\n",
    "val yEnd = mutableListOf<Int>()\n",
    "val vPoints = mutableListOf<Int>()\n",
    "\n",
    "for (y in 0 until 20) {\n",
    "    for (x in 0 until 20) {\n",
    "        xStart.add(x)\n",
    "        yStart.add(y)\n",
    "        vPoints.add(P[P[x] + y] % 4)\n",
    "//         val vector = GetConstantVector();\n",
    "//         xEnd.add(x + vector.x.toInt())\n",
    "//         yEnd.add(y + vector.y.toInt())\n",
    "    }\n",
    "}\n",
    "\n",
    "val gridMap = mapOf(\n",
    "    \"xStart\" to xStart,\n",
    "    \"yStart\" to yStart,\n",
    "    \"vPoints\" to vPoints,\n",
    ")\n",
    "\n",
    "plot(gridMap) {\n",
    "    points  {\n",
    "        x(\"xStart\")\n",
    "        y(\"yStart\")\n",
    "        color(\"vPoints\")\n",
    "    }\n",
    "}"
   ]
  },
  {
   "cell_type": "markdown",
   "id": "7d73164e",
   "metadata": {},
   "source": [
    "### 平滑曲线辅助函数\n"
   ]
  },
  {
   "cell_type": "markdown",
   "id": "04b39755",
   "metadata": {},
   "source": [
    "### 编写 Noise2d_v1 函数"
   ]
  },
  {
   "cell_type": "code",
   "execution_count": null,
   "id": "07e9f864",
   "metadata": {},
   "outputs": [],
   "source": [
    "fun Fade(t: Double): Double {\n",
    "    return 6*t*t*t*t*t - 15*t*t*t*t + 10*t*t*t;\n",
    "}\n",
    "\n",
    "fun Lerp(t: Double, a1: Double, a2: Double): Double {\n",
    "    return a1 + t*(a2-a1);\n",
    "}\n",
    "\n",
    "// 差值 Lerp\n",
    "val x: List<Double> = (0..100).step(1).map { it.toDouble() / 100.0 }\n",
    "val y: List<Double> = x.map { Fade(it) }\n",
    "val curveMap = mapOf(\"x\" to x, \"y\" to y)\n",
    "\n",
    "plot(curveMap) {\n",
    "    x(\"x\")\n",
    "    y(\"y\")\n",
    "    line {\n",
    "        color = KColor.GREEN\n",
    "    }\n",
    "}"
   ]
  },
  {
   "cell_type": "code",
   "execution_count": null,
   "id": "6bb98847",
   "metadata": {},
   "outputs": [],
   "source": [
    "fun Noise2d_v1(x: Double, y: Double): Double {\n",
    "    val X = floor(x).toInt() and 255 // 等价于取余 256\n",
    "    val Y =  floor(y).toInt() and 255 // 等价于取余 256\n",
    "\n",
    "    // decimal place\n",
    "    val X_f = x - floor(x)\n",
    "    val Y_f = y - floor(y)\n",
    "    \n",
    "    val topRight = Vector2(X_f - 1.0, Y_f - 1.0);\n",
    "    val topLeft =  Vector2(X_f, Y_f - 1.0);\n",
    "    val bottomRight = Vector2(X_f - 1.0, Y_f);\n",
    "    val bottomLeft = Vector2(X_f, Y_f);\n",
    "\n",
    "    val valueTopRight = P[P[X + 1] + Y + 1];\n",
    "    val valueTopLeft = P[P[X] + Y + 1];\n",
    "    val valueBottomRight = P[P[X + 1] + Y];\n",
    "    val valueBottomLeft = P[P[X] + Y];\n",
    "    \n",
    "    val dotTopRight = topRight * GetConstantVector(valueTopRight)\n",
    "    val dotTopLeft = topLeft * GetConstantVector(valueTopLeft)\n",
    "    val dotBottomRight = bottomRight * GetConstantVector(valueBottomRight)\n",
    "    val dotBottomLeft = bottomLeft * GetConstantVector(valueBottomLeft)\n",
    "\n",
    "    val u = Fade(X_f);\n",
    "    val v = Fade(Y_f);\n",
    "    return Lerp(\n",
    "        u,\n",
    "        Lerp(v, dotBottomLeft, dotTopLeft),\n",
    "        Lerp(v, dotBottomRight, dotTopRight)\n",
    "    );\n",
    "}\n",
    "\n",
    "Noise2d_v1(100.5, 100.5)"
   ]
  },
  {
   "cell_type": "code",
   "execution_count": null,
   "id": "b95514f1",
   "metadata": {},
   "outputs": [],
   "source": [
    "import java.awt.Color\n",
    "\n",
    "val height= 200\n",
    "val width = 200\n",
    "val image_v1 = BufferedImage(width, height, BufferedImage.TYPE_INT_ARGB)\n",
    "for (y in 0 until height) {\n",
    "    for (x in 0 until width) {\n",
    "        // 生成一个 0 到 255 之间的随机灰度值\n",
    "        val value = Noise2d_v1(x * 0.005, y * 0.005)\n",
    "        \n",
    "        val grayValue = (value * 255).toInt() and 255\n",
    "        // 设置像素的颜色\n",
    "        image_v1.setRGB(x, y, Color(grayValue, grayValue, grayValue).rgb)\n",
    "    }\n",
    "}\n",
    "\n",
    "image_v1"
   ]
  },
  {
   "cell_type": "code",
   "execution_count": null,
   "id": "e54325f9",
   "metadata": {},
   "outputs": [],
   "source": [
    "fun FractalBrownianMotion(x: Int, y: Int, numOctaves: Int): Double {\n",
    "    var result: Double = 0.0;\n",
    "    var amplitude: Double = 1.0;\n",
    "    var frequency: Double = 0.005;\n",
    "    for(octave in 0..numOctaves) {\n",
    "        val n = amplitude * Noise2d_v1(x * frequency, y * frequency);\n",
    "        result += n;\n",
    "\n",
    "        amplitude *= 0.5;\n",
    "        frequency *= 2.0;\n",
    "    }\n",
    "\n",
    "    return result;\n",
    "}\n",
    "\n",
    "(FractalBrownianMotion(100, 100, 8) + 1.0) * 0.5"
   ]
  },
  {
   "cell_type": "code",
   "execution_count": null,
   "id": "c926f93a",
   "metadata": {},
   "outputs": [],
   "source": [
    "val height= 500\n",
    "val width = 500\n",
    "val image_v2 = BufferedImage(width, height, BufferedImage.TYPE_INT_ARGB)\n",
    "for (y in 0 until height) {\n",
    "    for (x in 0 until width) {\n",
    "        var n = 0.0;\n",
    "        var  a = 1.0;\n",
    "        // 这里限制只取 0~2.5格\n",
    "        var  f = 0.005;\n",
    "        for(o in 0..1) {\n",
    "           var v = a * Noise2d_v1(x * f, y * f);\n",
    "            n += v;\n",
    "    \n",
    "            a *= 0.5;\n",
    "            f *= 2.0; \n",
    "        }\n",
    "\n",
    "        n += 1.0;\n",
    "        n *= 0.5;\n",
    "\n",
    "        var value = Math.round(255 * n);\n",
    "        val grayValue = value.toInt() * 2 and 255 \n",
    "        // 设置像素的颜色\n",
    "        image_v2.setRGB(x, y, Color(grayValue, grayValue, grayValue).rgb)\n",
    "    }\n",
    "}\n",
    "\n",
    "image_v2"
   ]
  },
  {
   "cell_type": "code",
   "execution_count": null,
   "id": "60ecb51d",
   "metadata": {},
   "outputs": [],
   "source": [
    "val height= 500\n",
    "val width = 500\n",
    "val image_v3 = BufferedImage(width, height, BufferedImage.TYPE_INT_ARGB)\n",
    "for (y in 0 until height) {\n",
    "    for (x in 0 until width) {\n",
    "        var n = 0.0;\n",
    "        var  a = 1.0;\n",
    "        // 这里限制只取 0~2.5格\n",
    "        var  f = 0.005;\n",
    "        for(o in 0..8) {\n",
    "           var v = a * Noise2d_v1(x * f, y * f);\n",
    "            n += v;\n",
    "    \n",
    "            a *= 0.5;\n",
    "            f *= 2.0; \n",
    "        }\n",
    "\n",
    "        n += 1.0;\n",
    "        n *= 0.5;\n",
    "\n",
    "        var value = Math.round(255 * n);\n",
    "        val grayValue = value.toInt() * 2 and 255 \n",
    "        // 设置像素的颜色\n",
    "        image_v3.setRGB(x, y, Color(grayValue, grayValue, grayValue).rgb)\n",
    "    }\n",
    "}\n",
    "\n",
    "image_v3"
   ]
  },
  {
   "cell_type": "markdown",
   "id": "864fce5e",
   "metadata": {},
   "source": [
    "从上面第一个没有分形迭代的图，可以猜测：生成结果与顶点的坐标有关系"
   ]
  },
  {
   "cell_type": "markdown",
   "id": "3b5bde77",
   "metadata": {},
   "source": [
    "如果我们在生成的图片画上网格，得到下面的图片。"
   ]
  },
  {
   "cell_type": "code",
   "execution_count": null,
   "id": "e33b7bc9",
   "metadata": {},
   "outputs": [],
   "source": [
    "%js\n",
    "\n",
    "import './sample.js'"
   ]
  },
  {
   "cell_type": "markdown",
   "id": "0df0662f",
   "metadata": {},
   "source": [
    "观察网格内部的深色区域，都是向量指向的方向。\n",
    "\n",
    "显然是一个格子的四个顶点的向量方向影响生产结果。对于一个格子，共有16种情况。"
   ]
  },
  {
   "cell_type": "code",
   "execution_count": null,
   "id": "b12be620",
   "metadata": {},
   "outputs": [],
   "source": [
    "%js\n",
    "\n",
    "import \"./cell-grid-16-number.js\""
   ]
  },
  {
   "cell_type": "markdown",
   "id": "8d988969",
   "metadata": {},
   "source": [
    "将数值转换为颜色，可以更直接看到顶点向量和内部颜色分布的关系"
   ]
  },
  {
   "cell_type": "code",
   "execution_count": null,
   "id": "e5d400e1",
   "metadata": {},
   "outputs": [],
   "source": [
    "%js\n",
    "\n",
    "import \"./cell-grid-16-color.js\""
   ]
  },
  {
   "cell_type": "code",
   "execution_count": null,
   "id": "89349cb9",
   "metadata": {},
   "outputs": [],
   "source": []
  }
 ],
 "metadata": {
  "kernelspec": {
   "display_name": "Kotlin",
   "language": "kotlin",
   "name": "kotlin"
  },
  "language_info": {
   "codemirror_mode": "text/x-kotlin",
   "file_extension": ".kt",
   "mimetype": "text/x-kotlin",
   "name": "kotlin",
   "nbconvert_exporter": "",
   "pygments_lexer": "kotlin",
   "version": "1.9.23"
  }
 },
 "nbformat": 4,
 "nbformat_minor": 5
}
