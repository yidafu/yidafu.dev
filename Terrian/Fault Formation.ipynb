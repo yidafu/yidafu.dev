{
 "cells": [
  {
   "cell_type": "raw",
   "id": "b8681b1a-10b6-424a-bc36-9c4d6dca12dd",
   "metadata": {},
   "source": [
    "---\n",
    "title: \"Fault Formation Algorithm\"\n",
    "cover: ./images/iteration-16.png\n",
    "---"
   ]
  },
  {
   "cell_type": "code",
   "execution_count": 1,
   "id": "f5495386",
   "metadata": {},
   "outputs": [
    {
     "data": {
      "text/html": [
       "            <div id=\"kotlin_out_0\"></div>\n",
       "            <script type=\"text/javascript\">\n",
       "                            if(!window.kotlinQueues) {\n",
       "                window.kotlinQueues = {};\n",
       "            }\n",
       "            if(!window.kotlinQueues[\"kandyLetsPlot\"]) {\n",
       "                var resQueue = [];\n",
       "                window.kotlinQueues[\"kandyLetsPlot\"] = resQueue;\n",
       "                window[\"call_kandyLetsPlot\"] = function(f) {\n",
       "                    resQueue.push(f);\n",
       "                }\n",
       "            }\n",
       "            (function (){\n",
       "                var modifiers = [(function(script) {\n",
       "    script.src = \"https://cdn.jsdelivr.net/gh/JetBrains/lets-plot@v3.1.0/js-package/distr/lets-plot.min.js\"\n",
       "    script.type = \"text/javascript\";\n",
       "})];\n",
       "                var e = document.getElementById(\"kotlin_out_0\");\n",
       "                modifiers.forEach(function (gen) {\n",
       "                    var script = document.createElement(\"script\");\n",
       "                    gen(script)\n",
       "                    script.addEventListener(\"load\", function() {\n",
       "                        window[\"call_kandyLetsPlot\"] = function(f) {f();};\n",
       "                        window.kotlinQueues[\"kandyLetsPlot\"].forEach(function(f) {f();});\n",
       "                        window.kotlinQueues[\"kandyLetsPlot\"] = [];\n",
       "                    }, false);\n",
       "                    script.addEventListener(\"error\", function() {\n",
       "                        window[\"call_kandyLetsPlot\"] = function(f) {};\n",
       "                        window.kotlinQueues[\"kandyLetsPlot\"] = [];\n",
       "                        var div = document.createElement(\"div\");\n",
       "                        div.style.color = 'darkred';\n",
       "                        div.textContent = 'Error loading resource kandyLetsPlot';\n",
       "                        document.getElementById(\"kotlin_out_0\").appendChild(div);\n",
       "                    }, false);\n",
       "                    \n",
       "                    e.appendChild(script);\n",
       "                });\n",
       "            })();\n",
       "            </script>"
      ]
     },
     "metadata": {},
     "output_type": "display_data"
    },
    {
     "data": {
      "text/html": [
       "            <div id=\"kotlin_out_1\"></div>\n",
       "            <script type=\"text/javascript\">\n",
       "                            if(!window.kotlinQueues) {\n",
       "                window.kotlinQueues = {};\n",
       "            }\n",
       "            if(!window.kotlinQueues[\"DataFrame\"]) {\n",
       "                var resQueue = [];\n",
       "                window.kotlinQueues[\"DataFrame\"] = resQueue;\n",
       "                window[\"call_DataFrame\"] = function(f) {\n",
       "                    resQueue.push(f);\n",
       "                }\n",
       "            }\n",
       "            (function (){\n",
       "                var modifiers = [(function(script) {\n",
       "    script.src = \"https://cdn.jsdelivr.net/gh/Kotlin/dataframe@3db46ccccaa1291c0627307d64133317f545e6ae/core/src/main/resources/init.js\"\n",
       "    script.type = \"text/javascript\";\n",
       "})];\n",
       "                var e = document.getElementById(\"kotlin_out_1\");\n",
       "                modifiers.forEach(function (gen) {\n",
       "                    var script = document.createElement(\"script\");\n",
       "                    gen(script)\n",
       "                    script.addEventListener(\"load\", function() {\n",
       "                        window[\"call_DataFrame\"] = function(f) {f();};\n",
       "                        window.kotlinQueues[\"DataFrame\"].forEach(function(f) {f();});\n",
       "                        window.kotlinQueues[\"DataFrame\"] = [];\n",
       "                    }, false);\n",
       "                    script.addEventListener(\"error\", function() {\n",
       "                        window[\"call_DataFrame\"] = function(f) {};\n",
       "                        window.kotlinQueues[\"DataFrame\"] = [];\n",
       "                        var div = document.createElement(\"div\");\n",
       "                        div.style.color = 'darkred';\n",
       "                        div.textContent = 'Error loading resource DataFrame';\n",
       "                        document.getElementById(\"kotlin_out_1\").appendChild(div);\n",
       "                    }, false);\n",
       "                    \n",
       "                    e.appendChild(script);\n",
       "                });\n",
       "            })();\n",
       "            </script>"
      ]
     },
     "metadata": {},
     "output_type": "display_data"
    },
    {
     "data": {
      "text/html": [
       "                <style>\n",
       "                :root {\n",
       "    --background: #fff;\n",
       "    --background-odd: #f5f5f5;\n",
       "    --background-hover: #d9edfd;\n",
       "    --header-text-color: #474747;\n",
       "    --text-color: #848484;\n",
       "    --text-color-dark: #000;\n",
       "    --text-color-medium: #737373;\n",
       "    --text-color-pale: #b3b3b3;\n",
       "    --inner-border-color: #aaa;\n",
       "    --bold-border-color: #000;\n",
       "    --link-color: #296eaa;\n",
       "    --link-color-pale: #296eaa;\n",
       "    --link-hover: #1a466c;\n",
       "}\n",
       "\n",
       ":root[theme=\"dark\"], :root [data-jp-theme-light=\"false\"], .dataframe_dark{\n",
       "    --background: #303030;\n",
       "    --background-odd: #3c3c3c;\n",
       "    --background-hover: #464646;\n",
       "    --header-text-color: #dddddd;\n",
       "    --text-color: #b3b3b3;\n",
       "    --text-color-dark: #dddddd;\n",
       "    --text-color-medium: #b2b2b2;\n",
       "    --text-color-pale: #737373;\n",
       "    --inner-border-color: #707070;\n",
       "    --bold-border-color: #777777;\n",
       "    --link-color: #008dc0;\n",
       "    --link-color-pale: #97e1fb;\n",
       "    --link-hover: #00688e;\n",
       "}\n",
       "\n",
       "p.dataframe_description {\n",
       "    color: var(--text-color-dark);\n",
       "}\n",
       "\n",
       "table.dataframe {\n",
       "    font-family: \"Helvetica Neue\", Helvetica, Arial, sans-serif;\n",
       "    font-size: 12px;\n",
       "    background-color: var(--background);\n",
       "    color: var(--text-color-dark);\n",
       "    border: none;\n",
       "    border-collapse: collapse;\n",
       "}\n",
       "\n",
       "table.dataframe th, td {\n",
       "    padding: 6px;\n",
       "    border: 1px solid transparent;\n",
       "    text-align: left;\n",
       "}\n",
       "\n",
       "table.dataframe th {\n",
       "    background-color: var(--background);\n",
       "    color: var(--header-text-color);\n",
       "}\n",
       "\n",
       "table.dataframe td {\n",
       "    vertical-align: top;\n",
       "}\n",
       "\n",
       "table.dataframe th.bottomBorder {\n",
       "    border-bottom-color: var(--bold-border-color);\n",
       "}\n",
       "\n",
       "table.dataframe tbody > tr:nth-child(odd) {\n",
       "    background: var(--background-odd);\n",
       "}\n",
       "\n",
       "table.dataframe tbody > tr:nth-child(even) {\n",
       "    background: var(--background);\n",
       "}\n",
       "\n",
       "table.dataframe tbody > tr:hover {\n",
       "    background: var(--background-hover);\n",
       "}\n",
       "\n",
       "table.dataframe a {\n",
       "    cursor: pointer;\n",
       "    color: var(--link-color);\n",
       "    text-decoration: none;\n",
       "}\n",
       "\n",
       "table.dataframe tr:hover > td a {\n",
       "    color: var(--link-color-pale);\n",
       "}\n",
       "\n",
       "table.dataframe a:hover {\n",
       "    color: var(--link-hover);\n",
       "    text-decoration: underline;\n",
       "}\n",
       "\n",
       "table.dataframe img {\n",
       "    max-width: fit-content;\n",
       "}\n",
       "\n",
       "table.dataframe th.complex {\n",
       "    background-color: var(--background);\n",
       "    border: 1px solid var(--background);\n",
       "}\n",
       "\n",
       "table.dataframe .leftBorder {\n",
       "    border-left-color: var(--inner-border-color);\n",
       "}\n",
       "\n",
       "table.dataframe .rightBorder {\n",
       "    border-right-color: var(--inner-border-color);\n",
       "}\n",
       "\n",
       "table.dataframe .rightAlign {\n",
       "    text-align: right;\n",
       "}\n",
       "\n",
       "table.dataframe .expanderSvg {\n",
       "    width: 8px;\n",
       "    height: 8px;\n",
       "    margin-right: 3px;\n",
       "}\n",
       "\n",
       "table.dataframe .expander {\n",
       "    display: flex;\n",
       "    align-items: center;\n",
       "}\n",
       "\n",
       "/* formatting */\n",
       "\n",
       "table.dataframe .null {\n",
       "    color: var(--text-color-pale);\n",
       "}\n",
       "\n",
       "table.dataframe .structural {\n",
       "    color: var(--text-color-medium);\n",
       "    font-weight: bold;\n",
       "}\n",
       "\n",
       "table.dataframe .dataFrameCaption {\n",
       "    font-weight: bold;\n",
       "}\n",
       "\n",
       "table.dataframe .numbers {\n",
       "    color: var(--text-color-dark);\n",
       "}\n",
       "\n",
       "table.dataframe td:hover .formatted .structural, .null {\n",
       "    color: var(--text-color-dark);\n",
       "}\n",
       "\n",
       "table.dataframe tr:hover .formatted .structural, .null {\n",
       "    color: var(--text-color-dark);\n",
       "}\n",
       "\n",
       "\n",
       "                </style>"
      ]
     },
     "metadata": {},
     "output_type": "display_data"
    }
   ],
   "source": [
    "// 先引入要使用的库\n",
    "%use kandy\n",
    "%use lib-ext\n",
    "%use dataframe"
   ]
  },
  {
   "cell_type": "markdown",
   "id": "47757247",
   "metadata": {},
   "source": [
    "根据 Fault Formation 算法,每次迭代在矩形内随机生成的一条直线，在直线右侧累加当前迭代的高度值。\n",
    "\n",
    "比如迭代2次，随机生成恰好相交，矩形内就会出现4种不同的高度，如下图所示。\n",
    "\n",
    "高度矩阵如下：\n",
    "\n",
    "```txt\n",
    "       0       0       0       0       0       0       0       0\n",
    "      33       0       0       0       0       0       0       0\n",
    "      33      33      33      33       0       0       0      66\n",
    "      33      33      33      33      33      33     100      66\n",
    "      33      33      33      33      33     100     100     100\n",
    "      33      33      33      33     100     100     100     100\n",
    "      33      33      33      33     100     100     100     100\n",
    "      33      33      33     100     100     100     100     100\n",
    "```"
   ]
  },
  {
   "cell_type": "code",
   "execution_count": 2,
   "id": "fe7e27d8",
   "metadata": {},
   "outputs": [
    {
     "data": {
      "text/html": [
       "<img src=\"./images/grid-8.png\" width=\"160\"/>"
      ]
     },
     "execution_count": 2,
     "metadata": {},
     "output_type": "execute_result"
    }
   ],
   "source": [
    "Image(\"./images/grid-8.png\").withWidth(160)"
   ]
  },
  {
   "cell_type": "markdown",
   "id": "b4011c3c",
   "metadata": {},
   "source": [
    "随着迭代次数增加，可以预期随着直线不断生成，会出现某些位置频繁出现在直线右侧，使得该位置高度不断叠加，形成”高山“，某些位置频繁出现在直线左侧，形成“低谷”。\n",
    "\n",
    "如下图，迭代16次就形成下面的不规则高度差。从 3D 图片更直观看出生成的 heightmap 比较接近大自然中高低起伏的山脉。"
   ]
  },
  {
   "cell_type": "code",
   "execution_count": 3,
   "id": "10fd2d7b",
   "metadata": {},
   "outputs": [
    {
     "data": {
      "text/html": [
       "<img src=\"./images/iteration-16.png\" width=\"512\"/>"
      ]
     },
     "execution_count": 3,
     "metadata": {},
     "output_type": "execute_result"
    }
   ],
   "source": [
    "Image(\"./images/iteration-16.png\").withWidth(512)"
   ]
  },
  {
   "cell_type": "code",
   "execution_count": 4,
   "id": "cd622a51",
   "metadata": {},
   "outputs": [
    {
     "data": {
      "text/html": [
       "<img src=\"./images/iteration-16-3d.png\"/>"
      ]
     },
     "execution_count": 4,
     "metadata": {},
     "output_type": "execute_result"
    }
   ],
   "source": [
    "Image(\"./images/iteration-16-3d.png\")"
   ]
  },
  {
   "cell_type": "markdown",
   "id": "6e76e634",
   "metadata": {},
   "source": [
    "下面讨论一下迭代过程的高度计算。\n",
    "\n",
    "根据每次迭代里计算高度的代码片段\n",
    "\n",
    "```c\n",
    "iHeight = iMaxDelta - ( ( iMaxDelta - iMinDelta) * iCurrentIteration ) / iIterations\n",
    "```\n",
    "\n",
    "可以得出`iHeight` 一个递减的序列，如下图红色点所示。\n",
    "\n",
    "我们计算 heightmap 高度是将每次迭代的`iHeight`累加起来。请看书中C代码：\n",
    "\n",
    "```c\n",
    "fTempBuffer[(z * m_iSize) + x] += iHeight\n",
    "```\n",
    "\n",
    "累加起来的高度，开始会较快的变大，到后面变大的速度会变慢。如下图蓝色点所示。\n",
    "\n",
    "反映到生成的 heightmap 就是，高度较高的区块高度差异不大，高度较低区块间高度差异大。\n",
    "\n",
    "这是比较符合逻辑的，不太会存在一座较高的山比周围的山高出特别多。"
   ]
  },
  {
   "cell_type": "code",
   "execution_count": 5,
   "id": "b1a1a1ec",
   "metadata": {},
   "outputs": [
    {
     "data": {
      "application/plot+json": {
       "apply_color_scheme": true,
       "output": {
        "data": {
         "accHeights": [
          255,
          502.03125,
          741.09375,
          972.1875,
          1195.3125,
          1410.46875,
          1617.65625,
          1816.875,
          2008.125,
          2191.40625,
          2366.71875,
          2534.0625,
          2693.4375,
          2844.84375,
          2988.28125,
          3123.75,
          3251.25,
          3370.78125,
          3482.34375,
          3585.9375,
          3681.5625,
          3769.21875,
          3848.90625,
          3920.625,
          3984.375,
          4040.15625,
          4087.96875,
          4127.8125,
          4159.6875,
          4183.59375,
          4199.53125,
          4207.5,
          4207.5
         ],
         "heights": [
          255,
          247.03125,
          239.0625,
          231.09375,
          223.125,
          215.15625,
          207.1875,
          199.21875,
          191.25,
          183.28125,
          175.3125,
          167.34375,
          159.375,
          151.40625,
          143.4375,
          135.46875,
          127.5,
          119.53125,
          111.5625,
          103.59375,
          95.625,
          87.65625,
          79.6875,
          71.71875,
          63.75,
          55.78125,
          47.8125,
          39.84375,
          31.875,
          23.90625,
          15.9375,
          7.96875,
          0
         ],
         "index": [
          0,
          1,
          2,
          3,
          4,
          5,
          6,
          7,
          8,
          9,
          10,
          11,
          12,
          13,
          14,
          15,
          16,
          17,
          18,
          19,
          20,
          21,
          22,
          23,
          24,
          25,
          26,
          27,
          28,
          29,
          30,
          31,
          32
         ]
        },
        "kind": "plot",
        "layers": [
         {
          "color": "#ee6666",
          "geom": "point",
          "mapping": {
           "x": "index",
           "y": "heights"
          },
          "position": "identity",
          "sampling": "none",
          "stat": "identity"
         },
         {
          "geom": "point",
          "mapping": {
           "x": "index",
           "y": "accHeights"
          },
          "position": "identity",
          "sampling": "none",
          "stat": "identity"
         }
        ],
        "mapping": {},
        "scales": [
         {
          "aesthetic": "x",
          "limits": [
           null,
           null
          ]
         },
         {
          "aesthetic": "y",
          "limits": [
           null,
           null
          ]
         },
         {
          "aesthetic": "x",
          "limits": [
           null,
           null
          ]
         },
         {
          "aesthetic": "y",
          "limits": [
           null,
           null
          ]
         }
        ]
       },
       "output_type": "lets_plot_spec",
       "swing_enabled": true
      },
      "text/html": [
       "            <script type=\"text/javascript\" data-lets-plot-script=\"library\" src=\"https://cdn.jsdelivr.net/gh/JetBrains/lets-plot@v3.1.0/js-package/distr/lets-plot.min.js\"></script>    \n",
       "               <div id=\"EolsSB\"></div>\n",
       "   <script type=\"text/javascript\" data-lets-plot-script=\"plot\">\n",
       "       var plotSpec={\n",
       "\"mapping\":{\n",
       "},\n",
       "\"data\":{\n",
       "\"heights\":[255.0,247.03125,239.0625,231.09375,223.125,215.15625,207.1875,199.21875,191.25,183.28125,175.3125,167.34375,159.375,151.40625,143.4375,135.46875,127.5,119.53125,111.5625,103.59375,95.625,87.65625,79.6875,71.71875,63.75,55.78125,47.8125,39.84375,31.875,23.90625,15.9375,7.96875,0.0],\n",
       "\"index\":[0.0,1.0,2.0,3.0,4.0,5.0,6.0,7.0,8.0,9.0,10.0,11.0,12.0,13.0,14.0,15.0,16.0,17.0,18.0,19.0,20.0,21.0,22.0,23.0,24.0,25.0,26.0,27.0,28.0,29.0,30.0,31.0,32.0],\n",
       "\"accHeights\":[255.0,502.03125,741.09375,972.1875,1195.3125,1410.46875,1617.65625,1816.875,2008.125,2191.40625,2366.71875,2534.0625,2693.4375,2844.84375,2988.28125,3123.75,3251.25,3370.78125,3482.34375,3585.9375,3681.5625,3769.21875,3848.90625,3920.625,3984.375,4040.15625,4087.96875,4127.8125,4159.6875,4183.59375,4199.53125,4207.5,4207.5]\n",
       "},\n",
       "\"kind\":\"plot\",\n",
       "\"scales\":[{\n",
       "\"aesthetic\":\"x\",\n",
       "\"limits\":[null,null]\n",
       "},{\n",
       "\"aesthetic\":\"y\",\n",
       "\"limits\":[null,null]\n",
       "},{\n",
       "\"aesthetic\":\"x\",\n",
       "\"limits\":[null,null]\n",
       "},{\n",
       "\"aesthetic\":\"y\",\n",
       "\"limits\":[null,null]\n",
       "}],\n",
       "\"layers\":[{\n",
       "\"mapping\":{\n",
       "\"x\":\"index\",\n",
       "\"y\":\"heights\"\n",
       "},\n",
       "\"stat\":\"identity\",\n",
       "\"color\":\"#ee6666\",\n",
       "\"sampling\":\"none\",\n",
       "\"position\":\"identity\",\n",
       "\"geom\":\"point\",\n",
       "\"data\":{\n",
       "}\n",
       "},{\n",
       "\"mapping\":{\n",
       "\"x\":\"index\",\n",
       "\"y\":\"accHeights\"\n",
       "},\n",
       "\"stat\":\"identity\",\n",
       "\"sampling\":\"none\",\n",
       "\"position\":\"identity\",\n",
       "\"geom\":\"point\",\n",
       "\"data\":{\n",
       "}\n",
       "}]\n",
       "};\n",
       "       var plotContainer = document.getElementById(\"EolsSB\");\n",
       "       LetsPlot.buildPlotFromProcessedSpecs(plotSpec, -1, -1, plotContainer);\n",
       "   </script>    "
      ]
     },
     "execution_count": 5,
     "metadata": {},
     "output_type": "execute_result"
    }
   ],
   "source": [
    "val maxDelta = 255\n",
    "val minDelta = 0;\n",
    "\n",
    "val iterations = 32\n",
    "val heights = mutableListOf<Float>()\n",
    "val accumulateHeights = mutableListOf<Float>()\n",
    "for (i in 0..iterations) {\n",
    "    heights.add(\n",
    "        maxDelta - ((maxDelta - minDelta) * i).toFloat() / iterations\n",
    "    )\n",
    "    accumulateHeights.add(heights.sum())\n",
    "}\n",
    "val index = (0..iterations).toList<Int>()\n",
    "\n",
    "plot(mapOf(\n",
    "    \"index\" to (0..iterations).toList<Int>(),\n",
    "    \"heights\" to heights,\n",
    "    \"accHeights\" to accumulateHeights\n",
    ")) {\n",
    "    points {\n",
    "        x(\"index\")\n",
    "        y(\"heights\")\n",
    "        color = Color.RED\n",
    "    }\n",
    "       points {\n",
    "        x(\"index\")\n",
    "        y(\"accHeights\")\n",
    "    }\n",
    "}"
   ]
  },
  {
   "cell_type": "markdown",
   "id": "748cc09c",
   "metadata": {},
   "source": [
    "生成 heightmap 后，下一步就是不同高度差之间过滤变得平滑。\n",
    "\n",
    "书中使用 FIR filter 算法。\n",
    "\n",
    "为了简化问题，我们只考虑一维。下面给出了实际生成 heightmap 的第一行数据。"
   ]
  },
  {
   "cell_type": "code",
   "execution_count": 6,
   "id": "4fe56b73",
   "metadata": {},
   "outputs": [
    {
     "data": {
      "application/plot+json": {
       "apply_color_scheme": true,
       "output": {
        "data": {
         "index": [
          0,
          1,
          2,
          3,
          4,
          5,
          6,
          7,
          8,
          9,
          10,
          11,
          12,
          13,
          14,
          15,
          16,
          17,
          18,
          19,
          20,
          21,
          22,
          23,
          24,
          25,
          26,
          27,
          28,
          29,
          30,
          31,
          32,
          33,
          34,
          35,
          36,
          37,
          38,
          39,
          40,
          41,
          42,
          43,
          44,
          45,
          46,
          47,
          48,
          49,
          50,
          51,
          52,
          53,
          54,
          55,
          56,
          57,
          58,
          59,
          60,
          61,
          62,
          63
         ],
         "points": [
          47,
          47,
          47,
          47,
          47,
          54,
          54,
          54,
          54,
          54,
          54,
          54,
          54,
          48,
          48,
          58,
          58,
          58,
          58,
          58,
          48,
          53,
          53,
          53,
          53,
          53,
          53,
          53,
          53,
          53,
          53,
          42,
          42,
          42,
          42,
          42,
          55,
          55,
          55,
          63,
          63,
          63,
          63,
          63,
          62,
          49,
          58,
          61,
          61,
          61,
          61,
          61,
          61,
          61,
          61,
          61,
          61,
          61,
          61,
          50,
          50,
          50,
          50,
          47
         ]
        },
        "kind": "plot",
        "layers": [
         {
          "geom": "point",
          "mapping": {
           "x": "index",
           "y": "points"
          },
          "position": "identity",
          "sampling": "none",
          "stat": "identity"
         },
         {
          "geom": "line",
          "mapping": {
           "x": "index",
           "y": "points"
          },
          "position": "identity",
          "sampling": "none",
          "stat": "identity"
         }
        ],
        "mapping": {},
        "scales": [
         {
          "aesthetic": "x",
          "limits": [
           null,
           null
          ]
         },
         {
          "aesthetic": "y",
          "limits": [
           null,
           null
          ]
         },
         {
          "aesthetic": "x",
          "limits": [
           null,
           null
          ]
         },
         {
          "aesthetic": "y",
          "limits": [
           null,
           null
          ]
         }
        ]
       },
       "output_type": "lets_plot_spec",
       "swing_enabled": true
      },
      "text/html": [
       "            <script type=\"text/javascript\" data-lets-plot-script=\"library\" src=\"https://cdn.jsdelivr.net/gh/JetBrains/lets-plot@v3.1.0/js-package/distr/lets-plot.min.js\"></script>    \n",
       "               <div id=\"HqZ0Qf\"></div>\n",
       "   <script type=\"text/javascript\" data-lets-plot-script=\"plot\">\n",
       "       var plotSpec={\n",
       "\"mapping\":{\n",
       "},\n",
       "\"data\":{\n",
       "\"index\":[0.0,1.0,2.0,3.0,4.0,5.0,6.0,7.0,8.0,9.0,10.0,11.0,12.0,13.0,14.0,15.0,16.0,17.0,18.0,19.0,20.0,21.0,22.0,23.0,24.0,25.0,26.0,27.0,28.0,29.0,30.0,31.0,32.0,33.0,34.0,35.0,36.0,37.0,38.0,39.0,40.0,41.0,42.0,43.0,44.0,45.0,46.0,47.0,48.0,49.0,50.0,51.0,52.0,53.0,54.0,55.0,56.0,57.0,58.0,59.0,60.0,61.0,62.0,63.0],\n",
       "\"points\":[47.0,47.0,47.0,47.0,47.0,54.0,54.0,54.0,54.0,54.0,54.0,54.0,54.0,48.0,48.0,58.0,58.0,58.0,58.0,58.0,48.0,53.0,53.0,53.0,53.0,53.0,53.0,53.0,53.0,53.0,53.0,42.0,42.0,42.0,42.0,42.0,55.0,55.0,55.0,63.0,63.0,63.0,63.0,63.0,62.0,49.0,58.0,61.0,61.0,61.0,61.0,61.0,61.0,61.0,61.0,61.0,61.0,61.0,61.0,50.0,50.0,50.0,50.0,47.0]\n",
       "},\n",
       "\"kind\":\"plot\",\n",
       "\"scales\":[{\n",
       "\"aesthetic\":\"x\",\n",
       "\"limits\":[null,null]\n",
       "},{\n",
       "\"aesthetic\":\"y\",\n",
       "\"limits\":[null,null]\n",
       "},{\n",
       "\"aesthetic\":\"x\",\n",
       "\"limits\":[null,null]\n",
       "},{\n",
       "\"aesthetic\":\"y\",\n",
       "\"limits\":[null,null]\n",
       "}],\n",
       "\"layers\":[{\n",
       "\"mapping\":{\n",
       "\"x\":\"index\",\n",
       "\"y\":\"points\"\n",
       "},\n",
       "\"stat\":\"identity\",\n",
       "\"sampling\":\"none\",\n",
       "\"position\":\"identity\",\n",
       "\"geom\":\"point\",\n",
       "\"data\":{\n",
       "}\n",
       "},{\n",
       "\"mapping\":{\n",
       "\"x\":\"index\",\n",
       "\"y\":\"points\"\n",
       "},\n",
       "\"stat\":\"identity\",\n",
       "\"sampling\":\"none\",\n",
       "\"position\":\"identity\",\n",
       "\"geom\":\"line\",\n",
       "\"data\":{\n",
       "}\n",
       "}]\n",
       "};\n",
       "       var plotContainer = document.getElementById(\"HqZ0Qf\");\n",
       "       LetsPlot.buildPlotFromProcessedSpecs(plotSpec, -1, -1, plotContainer);\n",
       "   </script>    "
      ]
     },
     "execution_count": 6,
     "metadata": {},
     "output_type": "execute_result"
    }
   ],
   "source": [
    "val samples = listOf<Double>(\n",
    "    47.0,47.0,47.0,47.0,47.0,54.0,54.0,54.0,54.0,54.0,54.0,54.0,54.0,48.0,48.0,\n",
    "    58.0,58.0,58.0,58.0,58.0,48.0,53.0,53.0,53.0,53.0,53.0,53.0,53.0,53.0,53.0,\n",
    "    53.0,42.0,42.0,42.0,42.0,42.0,55.0,55.0,55.0,63.0,63.0,63.0,63.0,63.0,62.0,\n",
    "    49.0,58.0,61.0,61.0,61.0,61.0,61.0,61.0,61.0,61.0,61.0,61.0,61.0,61.0,50.0,\n",
    "    50.0,50.0,50.0,47.0\n",
    ")\n",
    "val listSize = samples.size\n",
    "val gIndex = (0 until listSize).toList<Int>();\n",
    "\n",
    "plot(mapOf(\n",
    "    \"points\" to samples,\n",
    "    \"index\" to gIndex,\n",
    ")) {\n",
    "    points {\n",
    "        x(\"index\")\n",
    "        y(\"points\")\n",
    "    }\n",
    "    line {\n",
    "        x(\"index\")\n",
    "        y(\"points\")\n",
    "    }\n",
    "}"
   ]
  },
  {
   "cell_type": "markdown",
   "id": "f5ee50aa",
   "metadata": {},
   "source": [
    "下面直接根据书中代码给 FIR filter 实现。\n",
    "\n",
    "```kt\n",
    "// give number a,b\n",
    "b = a * weight + (1 - weight) * b\n",
    "```\n",
    "\n",
    "其它核心想法是：将前后两个值（a,b)按权重混合（mixin）得到 b 的新值。然后 b 再跟 c 按权重混合得到 c 的新值。\n",
    "\n",
    "这个权重就是下面函数参数`filter`。\n",
    "\n",
    "如果`filter = 0`，那就表示不做平滑处理；`filter = 1`，就会将所有值都改初始值。"
   ]
  },
  {
   "cell_type": "code",
   "execution_count": 7,
   "id": "eac33f12",
   "metadata": {},
   "outputs": [],
   "source": [
    "fun firFilter(band: MutableList<Double>, direction: Int, filter: Float) {\n",
    "    val start: Int = if (direction == 1) 0 else {band.size - 1}\n",
    "    var value = band[start]\n",
    "    \n",
    "    // val j = stride\n",
    "    var i = start\n",
    "    repeat(band.size) {\n",
    "        band[i] = filter * value + (1 - filter) * band[i]\n",
    "        value = band[i]\n",
    "        i += direction\n",
    "    }\n",
    "}"
   ]
  },
  {
   "cell_type": "markdown",
   "id": "190529a9",
   "metadata": {},
   "source": [
    "给出`[1, 1, 3, 3, 3]` 5个点，分别迭代 1次、2次、3次。\n",
    "\n",
    "从下图可以看出，每次迭代都会实现曲线更加平滑。\n",
    "\n",
    "迭代次数过多，会导致曲线退化成执行。"
   ]
  },
  {
   "cell_type": "code",
   "execution_count": 8,
   "id": "58845381",
   "metadata": {},
   "outputs": [
    {
     "data": {
      "application/plot+json": {
       "apply_color_scheme": true,
       "output": {
        "figures": [
         {
          "data": {
           "iteration 0": [
            1,
            1,
            3,
            3,
            3
           ],
           "xIndex": [
            0,
            1,
            2,
            3,
            4
           ]
          },
          "ggtitle": {
           "text": "iteration 0"
          },
          "kind": "plot",
          "layers": [
           {
            "geom": "point",
            "mapping": {
             "x": "xIndex",
             "y": "iteration 0"
            },
            "position": "identity",
            "sampling": "none",
            "stat": "identity"
           },
           {
            "geom": "line",
            "mapping": {
             "x": "xIndex",
             "y": "iteration 0"
            },
            "position": "identity",
            "sampling": "none",
            "stat": "identity"
           }
          ],
          "mapping": {},
          "scales": [
           {
            "aesthetic": "x",
            "limits": [
             null,
             null
            ]
           },
           {
            "aesthetic": "y",
            "limits": [
             null,
             null
            ]
           },
           {
            "aesthetic": "x",
            "limits": [
             null,
             null
            ]
           },
           {
            "aesthetic": "y",
            "limits": [
             null,
             null
            ]
           }
          ]
         },
         {
          "data": {
           "iteration 1": [
            1,
            1,
            2.399999976158142,
            2.819999985694885,
            2.9459999935626984
           ],
           "xIndex": [
            0,
            1,
            2,
            3,
            4
           ]
          },
          "ggtitle": {
           "text": "iteration 1"
          },
          "kind": "plot",
          "layers": [
           {
            "geom": "point",
            "mapping": {
             "x": "xIndex",
             "y": "iteration 1"
            },
            "position": "identity",
            "sampling": "none",
            "stat": "identity"
           },
           {
            "geom": "line",
            "mapping": {
             "x": "xIndex",
             "y": "iteration 1"
            },
            "position": "identity",
            "sampling": "none",
            "stat": "identity"
           }
          ],
          "mapping": {},
          "scales": [
           {
            "aesthetic": "x",
            "limits": [
             null,
             null
            ]
           },
           {
            "aesthetic": "y",
            "limits": [
             null,
             null
            ]
           },
           {
            "aesthetic": "x",
            "limits": [
             null,
             null
            ]
           },
           {
            "aesthetic": "y",
            "limits": [
             null,
             null
            ]
           }
          ]
         },
         {
          "data": {
           "iteration 2": [
            1,
            1,
            1.9799999666213992,
            2.5679999699592586,
            2.832599981975555
           ],
           "xIndex": [
            0,
            1,
            2,
            3,
            4
           ]
          },
          "ggtitle": {
           "text": "iteration 2"
          },
          "kind": "plot",
          "layers": [
           {
            "geom": "point",
            "mapping": {
             "x": "xIndex",
             "y": "iteration 2"
            },
            "position": "identity",
            "sampling": "none",
            "stat": "identity"
           },
           {
            "geom": "line",
            "mapping": {
             "x": "xIndex",
             "y": "iteration 2"
            },
            "position": "identity",
            "sampling": "none",
            "stat": "identity"
           }
          ],
          "mapping": {},
          "scales": [
           {
            "aesthetic": "x",
            "limits": [
             null,
             null
            ]
           },
           {
            "aesthetic": "y",
            "limits": [
             null,
             null
            ]
           },
           {
            "aesthetic": "x",
            "limits": [
             null,
             null
            ]
           },
           {
            "aesthetic": "y",
            "limits": [
             null,
             null
            ]
           }
          ]
         },
         {
          "data": {
           "iteration 4": [
            1,
            1,
            1.4801999672889719,
            2.0564399509334566,
            2.48861995584011
           ],
           "xIndex": [
            0,
            1,
            2,
            3,
            4
           ]
          },
          "ggtitle": {
           "text": "iteration 4"
          },
          "kind": "plot",
          "layers": [
           {
            "geom": "point",
            "mapping": {
             "x": "xIndex",
             "y": "iteration 4"
            },
            "position": "identity",
            "sampling": "none",
            "stat": "identity"
           },
           {
            "geom": "line",
            "mapping": {
             "x": "xIndex",
             "y": "iteration 4"
            },
            "position": "identity",
            "sampling": "none",
            "stat": "identity"
           }
          ],
          "mapping": {},
          "scales": [
           {
            "aesthetic": "x",
            "limits": [
             null,
             null
            ]
           },
           {
            "aesthetic": "y",
            "limits": [
             null,
             null
            ]
           },
           {
            "aesthetic": "x",
            "limits": [
             null,
             null
            ]
           },
           {
            "aesthetic": "y",
            "limits": [
             null,
             null
            ]
           }
          ]
         },
         {
          "data": {
           "iteration 8": [
            1,
            1,
            1.1152960042921647,
            1.392006425588844,
            1.7655655091832647
           ],
           "xIndex": [
            0,
            1,
            2,
            3,
            4
           ]
          },
          "ggtitle": {
           "text": "iteration 8"
          },
          "kind": "plot",
          "layers": [
           {
            "geom": "point",
            "mapping": {
             "x": "xIndex",
             "y": "iteration 8"
            },
            "position": "identity",
            "sampling": "none",
            "stat": "identity"
           },
           {
            "geom": "line",
            "mapping": {
             "x": "xIndex",
             "y": "iteration 8"
            },
            "position": "identity",
            "sampling": "none",
            "stat": "identity"
           }
          ],
          "mapping": {},
          "scales": [
           {
            "aesthetic": "x",
            "limits": [
             null,
             null
            ]
           },
           {
            "aesthetic": "y",
            "limits": [
             null,
             null
            ]
           },
           {
            "aesthetic": "x",
            "limits": [
             null,
             null
            ]
           },
           {
            "aesthetic": "y",
            "limits": [
             null,
             null
            ]
           }
          ]
         },
         {
          "data": {
           "iteration 16": [
            1,
            1,
            1.0066465843028696,
            1.0385501902243781,
            1.1199043885569504
           ],
           "xIndex": [
            0,
            1,
            2,
            3,
            4
           ]
          },
          "ggtitle": {
           "text": "iteration 16"
          },
          "kind": "plot",
          "layers": [
           {
            "geom": "point",
            "mapping": {
             "x": "xIndex",
             "y": "iteration 16"
            },
            "position": "identity",
            "sampling": "none",
            "stat": "identity"
           },
           {
            "geom": "line",
            "mapping": {
             "x": "xIndex",
             "y": "iteration 16"
            },
            "position": "identity",
            "sampling": "none",
            "stat": "identity"
           }
          ],
          "mapping": {},
          "scales": [
           {
            "aesthetic": "x",
            "limits": [
             null,
             null
            ]
           },
           {
            "aesthetic": "y",
            "limits": [
             null,
             null
            ]
           },
           {
            "aesthetic": "x",
            "limits": [
             null,
             null
            ]
           },
           {
            "aesthetic": "y",
            "limits": [
             null,
             null
            ]
           }
          ]
         },
         {
          "data": {
           "iteration 32": [
            1,
            1,
            1.0000220885414475,
            1.0002341385477704,
            1.0012837861207775
           ],
           "xIndex": [
            0,
            1,
            2,
            3,
            4
           ]
          },
          "ggtitle": {
           "text": "iteration 32"
          },
          "kind": "plot",
          "layers": [
           {
            "geom": "point",
            "mapping": {
             "x": "xIndex",
             "y": "iteration 32"
            },
            "position": "identity",
            "sampling": "none",
            "stat": "identity"
           },
           {
            "geom": "line",
            "mapping": {
             "x": "xIndex",
             "y": "iteration 32"
            },
            "position": "identity",
            "sampling": "none",
            "stat": "identity"
           }
          ],
          "mapping": {},
          "scales": [
           {
            "aesthetic": "x",
            "limits": [
             null,
             null
            ]
           },
           {
            "aesthetic": "y",
            "limits": [
             null,
             null
            ]
           },
           {
            "aesthetic": "x",
            "limits": [
             null,
             null
            ]
           },
           {
            "aesthetic": "y",
            "limits": [
             null,
             null
            ]
           }
          ]
         },
         {
          "data": {
           "iteration 64": [
            1,
            1,
            1.0000000002439517,
            1.0000000049278273,
            1.000000050595614
           ],
           "xIndex": [
            0,
            1,
            2,
            3,
            4
           ]
          },
          "ggtitle": {
           "text": "iteration 64"
          },
          "kind": "plot",
          "layers": [
           {
            "geom": "point",
            "mapping": {
             "x": "xIndex",
             "y": "iteration 64"
            },
            "position": "identity",
            "sampling": "none",
            "stat": "identity"
           },
           {
            "geom": "line",
            "mapping": {
             "x": "xIndex",
             "y": "iteration 64"
            },
            "position": "identity",
            "sampling": "none",
            "stat": "identity"
           }
          ],
          "mapping": {},
          "scales": [
           {
            "aesthetic": "x",
            "limits": [
             null,
             null
            ]
           },
           {
            "aesthetic": "y",
            "limits": [
             null,
             null
            ]
           },
           {
            "aesthetic": "x",
            "limits": [
             null,
             null
            ]
           },
           {
            "aesthetic": "y",
            "limits": [
             null,
             null
            ]
           }
          ]
         },
         {
          "data": {
           "iteration 128": [
            1,
            1,
            1.0000000000000004,
            1.0000000000000009,
            1.000000000000001
           ],
           "xIndex": [
            0,
            1,
            2,
            3,
            4
           ]
          },
          "ggtitle": {
           "text": "iteration 128"
          },
          "kind": "plot",
          "layers": [
           {
            "geom": "point",
            "mapping": {
             "x": "xIndex",
             "y": "iteration 128"
            },
            "position": "identity",
            "sampling": "none",
            "stat": "identity"
           },
           {
            "geom": "line",
            "mapping": {
             "x": "xIndex",
             "y": "iteration 128"
            },
            "position": "identity",
            "sampling": "none",
            "stat": "identity"
           }
          ],
          "mapping": {},
          "scales": [
           {
            "aesthetic": "x",
            "limits": [
             null,
             null
            ]
           },
           {
            "aesthetic": "y",
            "limits": [
             null,
             null
            ]
           },
           {
            "aesthetic": "x",
            "limits": [
             null,
             null
            ]
           },
           {
            "aesthetic": "y",
            "limits": [
             null,
             null
            ]
           }
          ]
         }
        ],
        "kind": "subplots",
        "layout": {
         "align": false,
         "fit": true,
         "name": "grid",
         "ncol": 3,
         "nrow": 3
        }
       },
       "output_type": "lets_plot_spec",
       "swing_enabled": true
      },
      "text/html": [
       "            <script type=\"text/javascript\" data-lets-plot-script=\"library\" src=\"https://cdn.jsdelivr.net/gh/JetBrains/lets-plot@v3.1.0/js-package/distr/lets-plot.min.js\"></script>    \n",
       "               <div id=\"qgqFdM\"></div>\n",
       "   <script type=\"text/javascript\" data-lets-plot-script=\"plot\">\n",
       "       var plotSpec={\n",
       "\"layout\":{\n",
       "\"name\":\"grid\",\n",
       "\"ncol\":3,\n",
       "\"nrow\":3,\n",
       "\"fit\":true,\n",
       "\"align\":false\n",
       "},\n",
       "\"figures\":[{\n",
       "\"ggtitle\":{\n",
       "\"text\":\"iteration 0\"\n",
       "},\n",
       "\"mapping\":{\n",
       "},\n",
       "\"data\":{\n",
       "\"xIndex\":[0.0,1.0,2.0,3.0,4.0],\n",
       "\"iteration 0\":[1.0,1.0,3.0,3.0,3.0]\n",
       "},\n",
       "\"kind\":\"plot\",\n",
       "\"scales\":[{\n",
       "\"aesthetic\":\"x\",\n",
       "\"limits\":[null,null]\n",
       "},{\n",
       "\"aesthetic\":\"y\",\n",
       "\"limits\":[null,null]\n",
       "},{\n",
       "\"aesthetic\":\"x\",\n",
       "\"limits\":[null,null]\n",
       "},{\n",
       "\"aesthetic\":\"y\",\n",
       "\"limits\":[null,null]\n",
       "}],\n",
       "\"layers\":[{\n",
       "\"mapping\":{\n",
       "\"x\":\"xIndex\",\n",
       "\"y\":\"iteration 0\"\n",
       "},\n",
       "\"stat\":\"identity\",\n",
       "\"sampling\":\"none\",\n",
       "\"position\":\"identity\",\n",
       "\"geom\":\"point\",\n",
       "\"data\":{\n",
       "}\n",
       "},{\n",
       "\"mapping\":{\n",
       "\"x\":\"xIndex\",\n",
       "\"y\":\"iteration 0\"\n",
       "},\n",
       "\"stat\":\"identity\",\n",
       "\"sampling\":\"none\",\n",
       "\"position\":\"identity\",\n",
       "\"geom\":\"line\",\n",
       "\"data\":{\n",
       "}\n",
       "}]\n",
       "},{\n",
       "\"ggtitle\":{\n",
       "\"text\":\"iteration 1\"\n",
       "},\n",
       "\"mapping\":{\n",
       "},\n",
       "\"data\":{\n",
       "\"xIndex\":[0.0,1.0,2.0,3.0,4.0],\n",
       "\"iteration 1\":[1.0,1.0,2.399999976158142,2.819999985694885,2.9459999935626984]\n",
       "},\n",
       "\"kind\":\"plot\",\n",
       "\"scales\":[{\n",
       "\"aesthetic\":\"x\",\n",
       "\"limits\":[null,null]\n",
       "},{\n",
       "\"aesthetic\":\"y\",\n",
       "\"limits\":[null,null]\n",
       "},{\n",
       "\"aesthetic\":\"x\",\n",
       "\"limits\":[null,null]\n",
       "},{\n",
       "\"aesthetic\":\"y\",\n",
       "\"limits\":[null,null]\n",
       "}],\n",
       "\"layers\":[{\n",
       "\"mapping\":{\n",
       "\"x\":\"xIndex\",\n",
       "\"y\":\"iteration 1\"\n",
       "},\n",
       "\"stat\":\"identity\",\n",
       "\"sampling\":\"none\",\n",
       "\"position\":\"identity\",\n",
       "\"geom\":\"point\",\n",
       "\"data\":{\n",
       "}\n",
       "},{\n",
       "\"mapping\":{\n",
       "\"x\":\"xIndex\",\n",
       "\"y\":\"iteration 1\"\n",
       "},\n",
       "\"stat\":\"identity\",\n",
       "\"sampling\":\"none\",\n",
       "\"position\":\"identity\",\n",
       "\"geom\":\"line\",\n",
       "\"data\":{\n",
       "}\n",
       "}]\n",
       "},{\n",
       "\"ggtitle\":{\n",
       "\"text\":\"iteration 2\"\n",
       "},\n",
       "\"mapping\":{\n",
       "},\n",
       "\"data\":{\n",
       "\"xIndex\":[0.0,1.0,2.0,3.0,4.0],\n",
       "\"iteration 2\":[1.0,1.0,1.9799999666213992,2.5679999699592586,2.832599981975555]\n",
       "},\n",
       "\"kind\":\"plot\",\n",
       "\"scales\":[{\n",
       "\"aesthetic\":\"x\",\n",
       "\"limits\":[null,null]\n",
       "},{\n",
       "\"aesthetic\":\"y\",\n",
       "\"limits\":[null,null]\n",
       "},{\n",
       "\"aesthetic\":\"x\",\n",
       "\"limits\":[null,null]\n",
       "},{\n",
       "\"aesthetic\":\"y\",\n",
       "\"limits\":[null,null]\n",
       "}],\n",
       "\"layers\":[{\n",
       "\"mapping\":{\n",
       "\"x\":\"xIndex\",\n",
       "\"y\":\"iteration 2\"\n",
       "},\n",
       "\"stat\":\"identity\",\n",
       "\"sampling\":\"none\",\n",
       "\"position\":\"identity\",\n",
       "\"geom\":\"point\",\n",
       "\"data\":{\n",
       "}\n",
       "},{\n",
       "\"mapping\":{\n",
       "\"x\":\"xIndex\",\n",
       "\"y\":\"iteration 2\"\n",
       "},\n",
       "\"stat\":\"identity\",\n",
       "\"sampling\":\"none\",\n",
       "\"position\":\"identity\",\n",
       "\"geom\":\"line\",\n",
       "\"data\":{\n",
       "}\n",
       "}]\n",
       "},{\n",
       "\"ggtitle\":{\n",
       "\"text\":\"iteration 4\"\n",
       "},\n",
       "\"mapping\":{\n",
       "},\n",
       "\"data\":{\n",
       "\"iteration 4\":[1.0,1.0,1.4801999672889719,2.0564399509334566,2.48861995584011],\n",
       "\"xIndex\":[0.0,1.0,2.0,3.0,4.0]\n",
       "},\n",
       "\"kind\":\"plot\",\n",
       "\"scales\":[{\n",
       "\"aesthetic\":\"x\",\n",
       "\"limits\":[null,null]\n",
       "},{\n",
       "\"aesthetic\":\"y\",\n",
       "\"limits\":[null,null]\n",
       "},{\n",
       "\"aesthetic\":\"x\",\n",
       "\"limits\":[null,null]\n",
       "},{\n",
       "\"aesthetic\":\"y\",\n",
       "\"limits\":[null,null]\n",
       "}],\n",
       "\"layers\":[{\n",
       "\"mapping\":{\n",
       "\"x\":\"xIndex\",\n",
       "\"y\":\"iteration 4\"\n",
       "},\n",
       "\"stat\":\"identity\",\n",
       "\"sampling\":\"none\",\n",
       "\"position\":\"identity\",\n",
       "\"geom\":\"point\",\n",
       "\"data\":{\n",
       "}\n",
       "},{\n",
       "\"mapping\":{\n",
       "\"x\":\"xIndex\",\n",
       "\"y\":\"iteration 4\"\n",
       "},\n",
       "\"stat\":\"identity\",\n",
       "\"sampling\":\"none\",\n",
       "\"position\":\"identity\",\n",
       "\"geom\":\"line\",\n",
       "\"data\":{\n",
       "}\n",
       "}]\n",
       "},{\n",
       "\"ggtitle\":{\n",
       "\"text\":\"iteration 8\"\n",
       "},\n",
       "\"mapping\":{\n",
       "},\n",
       "\"data\":{\n",
       "\"iteration 8\":[1.0,1.0,1.1152960042921647,1.392006425588844,1.7655655091832647],\n",
       "\"xIndex\":[0.0,1.0,2.0,3.0,4.0]\n",
       "},\n",
       "\"kind\":\"plot\",\n",
       "\"scales\":[{\n",
       "\"aesthetic\":\"x\",\n",
       "\"limits\":[null,null]\n",
       "},{\n",
       "\"aesthetic\":\"y\",\n",
       "\"limits\":[null,null]\n",
       "},{\n",
       "\"aesthetic\":\"x\",\n",
       "\"limits\":[null,null]\n",
       "},{\n",
       "\"aesthetic\":\"y\",\n",
       "\"limits\":[null,null]\n",
       "}],\n",
       "\"layers\":[{\n",
       "\"mapping\":{\n",
       "\"x\":\"xIndex\",\n",
       "\"y\":\"iteration 8\"\n",
       "},\n",
       "\"stat\":\"identity\",\n",
       "\"sampling\":\"none\",\n",
       "\"position\":\"identity\",\n",
       "\"geom\":\"point\",\n",
       "\"data\":{\n",
       "}\n",
       "},{\n",
       "\"mapping\":{\n",
       "\"x\":\"xIndex\",\n",
       "\"y\":\"iteration 8\"\n",
       "},\n",
       "\"stat\":\"identity\",\n",
       "\"sampling\":\"none\",\n",
       "\"position\":\"identity\",\n",
       "\"geom\":\"line\",\n",
       "\"data\":{\n",
       "}\n",
       "}]\n",
       "},{\n",
       "\"ggtitle\":{\n",
       "\"text\":\"iteration 16\"\n",
       "},\n",
       "\"mapping\":{\n",
       "},\n",
       "\"data\":{\n",
       "\"xIndex\":[0.0,1.0,2.0,3.0,4.0],\n",
       "\"iteration 16\":[1.0,1.0,1.0066465843028696,1.0385501902243781,1.1199043885569504]\n",
       "},\n",
       "\"kind\":\"plot\",\n",
       "\"scales\":[{\n",
       "\"aesthetic\":\"x\",\n",
       "\"limits\":[null,null]\n",
       "},{\n",
       "\"aesthetic\":\"y\",\n",
       "\"limits\":[null,null]\n",
       "},{\n",
       "\"aesthetic\":\"x\",\n",
       "\"limits\":[null,null]\n",
       "},{\n",
       "\"aesthetic\":\"y\",\n",
       "\"limits\":[null,null]\n",
       "}],\n",
       "\"layers\":[{\n",
       "\"mapping\":{\n",
       "\"x\":\"xIndex\",\n",
       "\"y\":\"iteration 16\"\n",
       "},\n",
       "\"stat\":\"identity\",\n",
       "\"sampling\":\"none\",\n",
       "\"position\":\"identity\",\n",
       "\"geom\":\"point\",\n",
       "\"data\":{\n",
       "}\n",
       "},{\n",
       "\"mapping\":{\n",
       "\"x\":\"xIndex\",\n",
       "\"y\":\"iteration 16\"\n",
       "},\n",
       "\"stat\":\"identity\",\n",
       "\"sampling\":\"none\",\n",
       "\"position\":\"identity\",\n",
       "\"geom\":\"line\",\n",
       "\"data\":{\n",
       "}\n",
       "}]\n",
       "},{\n",
       "\"ggtitle\":{\n",
       "\"text\":\"iteration 32\"\n",
       "},\n",
       "\"mapping\":{\n",
       "},\n",
       "\"data\":{\n",
       "\"iteration 32\":[1.0,1.0,1.0000220885414475,1.0002341385477704,1.0012837861207775],\n",
       "\"xIndex\":[0.0,1.0,2.0,3.0,4.0]\n",
       "},\n",
       "\"kind\":\"plot\",\n",
       "\"scales\":[{\n",
       "\"aesthetic\":\"x\",\n",
       "\"limits\":[null,null]\n",
       "},{\n",
       "\"aesthetic\":\"y\",\n",
       "\"limits\":[null,null]\n",
       "},{\n",
       "\"aesthetic\":\"x\",\n",
       "\"limits\":[null,null]\n",
       "},{\n",
       "\"aesthetic\":\"y\",\n",
       "\"limits\":[null,null]\n",
       "}],\n",
       "\"layers\":[{\n",
       "\"mapping\":{\n",
       "\"x\":\"xIndex\",\n",
       "\"y\":\"iteration 32\"\n",
       "},\n",
       "\"stat\":\"identity\",\n",
       "\"sampling\":\"none\",\n",
       "\"position\":\"identity\",\n",
       "\"geom\":\"point\",\n",
       "\"data\":{\n",
       "}\n",
       "},{\n",
       "\"mapping\":{\n",
       "\"x\":\"xIndex\",\n",
       "\"y\":\"iteration 32\"\n",
       "},\n",
       "\"stat\":\"identity\",\n",
       "\"sampling\":\"none\",\n",
       "\"position\":\"identity\",\n",
       "\"geom\":\"line\",\n",
       "\"data\":{\n",
       "}\n",
       "}]\n",
       "},{\n",
       "\"ggtitle\":{\n",
       "\"text\":\"iteration 64\"\n",
       "},\n",
       "\"mapping\":{\n",
       "},\n",
       "\"data\":{\n",
       "\"iteration 64\":[1.0,1.0,1.0000000002439517,1.0000000049278273,1.000000050595614],\n",
       "\"xIndex\":[0.0,1.0,2.0,3.0,4.0]\n",
       "},\n",
       "\"kind\":\"plot\",\n",
       "\"scales\":[{\n",
       "\"aesthetic\":\"x\",\n",
       "\"limits\":[null,null]\n",
       "},{\n",
       "\"aesthetic\":\"y\",\n",
       "\"limits\":[null,null]\n",
       "},{\n",
       "\"aesthetic\":\"x\",\n",
       "\"limits\":[null,null]\n",
       "},{\n",
       "\"aesthetic\":\"y\",\n",
       "\"limits\":[null,null]\n",
       "}],\n",
       "\"layers\":[{\n",
       "\"mapping\":{\n",
       "\"x\":\"xIndex\",\n",
       "\"y\":\"iteration 64\"\n",
       "},\n",
       "\"stat\":\"identity\",\n",
       "\"sampling\":\"none\",\n",
       "\"position\":\"identity\",\n",
       "\"geom\":\"point\",\n",
       "\"data\":{\n",
       "}\n",
       "},{\n",
       "\"mapping\":{\n",
       "\"x\":\"xIndex\",\n",
       "\"y\":\"iteration 64\"\n",
       "},\n",
       "\"stat\":\"identity\",\n",
       "\"sampling\":\"none\",\n",
       "\"position\":\"identity\",\n",
       "\"geom\":\"line\",\n",
       "\"data\":{\n",
       "}\n",
       "}]\n",
       "},{\n",
       "\"ggtitle\":{\n",
       "\"text\":\"iteration 128\"\n",
       "},\n",
       "\"mapping\":{\n",
       "},\n",
       "\"data\":{\n",
       "\"iteration 128\":[1.0,1.0,1.0000000000000004,1.0000000000000009,1.000000000000001],\n",
       "\"xIndex\":[0.0,1.0,2.0,3.0,4.0]\n",
       "},\n",
       "\"kind\":\"plot\",\n",
       "\"scales\":[{\n",
       "\"aesthetic\":\"x\",\n",
       "\"limits\":[null,null]\n",
       "},{\n",
       "\"aesthetic\":\"y\",\n",
       "\"limits\":[null,null]\n",
       "},{\n",
       "\"aesthetic\":\"x\",\n",
       "\"limits\":[null,null]\n",
       "},{\n",
       "\"aesthetic\":\"y\",\n",
       "\"limits\":[null,null]\n",
       "}],\n",
       "\"layers\":[{\n",
       "\"mapping\":{\n",
       "\"x\":\"xIndex\",\n",
       "\"y\":\"iteration 128\"\n",
       "},\n",
       "\"stat\":\"identity\",\n",
       "\"sampling\":\"none\",\n",
       "\"position\":\"identity\",\n",
       "\"geom\":\"point\",\n",
       "\"data\":{\n",
       "}\n",
       "},{\n",
       "\"mapping\":{\n",
       "\"x\":\"xIndex\",\n",
       "\"y\":\"iteration 128\"\n",
       "},\n",
       "\"stat\":\"identity\",\n",
       "\"sampling\":\"none\",\n",
       "\"position\":\"identity\",\n",
       "\"geom\":\"line\",\n",
       "\"data\":{\n",
       "}\n",
       "}]\n",
       "}],\n",
       "\"kind\":\"subplots\"\n",
       "};\n",
       "       var plotContainer = document.getElementById(\"qgqFdM\");\n",
       "       LetsPlot.buildPlotFromProcessedSpecs(plotSpec, -1, -1, plotContainer);\n",
       "   </script>    "
      ]
     },
     "execution_count": 8,
     "metadata": {},
     "output_type": "execute_result"
    }
   ],
   "source": [
    "val lines: List<Double> = listOf(1.0, 1.0, 3.0, 3.0, 3.0)\n",
    "\n",
    "val index3: List<Double> = (0 until lines.size).map{ it.toDouble() }.toList<Double>();\n",
    "\n",
    "\n",
    "val iterations = listOf(0,1,2,4,8,16,32,64,128).map { i ->\n",
    "    val iteration: MutableList<Double> = lines.toMutableList()\n",
    "    repeat(i) {\n",
    "        firFilter(iteration, 1, 0.3f)\n",
    "    }\n",
    "    \n",
    "    \"iteration $i\" to iteration\n",
    "}.toMap().toMutableMap()\n",
    "val keys = iterations.keys.toList()\n",
    "\n",
    "iterations[\"xIndex\"] = index3.toMutableList()\n",
    "val itetationResults = keys.map {key ->\n",
    "    plot(iterations) {\n",
    "        points {\n",
    "            x(\"xIndex\")\n",
    "            y(key)\n",
    "        }\n",
    "        line {\n",
    "            x(\"xIndex\")\n",
    "            y(key)\n",
    "        }\n",
    "        layout.title = key\n",
    "    }\n",
    "}\n",
    "\n",
    "plotGrid(itetationResults, nCol = 3)"
   ]
  },
  {
   "cell_type": "markdown",
   "id": "72ddca92",
   "metadata": {},
   "source": [
    "修改`filter` 也会影响曲线的平滑度,`filter`越大就会越平滑。"
   ]
  },
  {
   "cell_type": "code",
   "execution_count": 9,
   "id": "4e3b581d",
   "metadata": {},
   "outputs": [
    {
     "data": {
      "application/plot+json": {
       "apply_color_scheme": true,
       "output": {
        "figures": [
         {
          "data": {
           "filter 0.0": [
            1,
            1,
            3,
            3,
            3
           ],
           "xIndex": [
            0,
            1,
            2,
            3,
            4
           ]
          },
          "ggtitle": {
           "text": "filter 0.0"
          },
          "kind": "plot",
          "layers": [
           {
            "geom": "point",
            "mapping": {
             "x": "xIndex",
             "y": "filter 0.0"
            },
            "position": "identity",
            "sampling": "none",
            "stat": "identity"
           },
           {
            "geom": "line",
            "mapping": {
             "x": "xIndex",
             "y": "filter 0.0"
            },
            "position": "identity",
            "sampling": "none",
            "stat": "identity"
           }
          ],
          "mapping": {},
          "scales": [
           {
            "aesthetic": "x",
            "limits": [
             null,
             null
            ]
           },
           {
            "aesthetic": "y",
            "limits": [
             null,
             null
            ]
           },
           {
            "aesthetic": "x",
            "limits": [
             null,
             null
            ]
           },
           {
            "aesthetic": "y",
            "limits": [
             null,
             null
            ]
           }
          ]
         },
         {
          "data": {
           "filter 0.3": [
            1,
            1,
            2.399999976158142,
            2.819999985694885,
            2.9459999935626984
           ],
           "xIndex": [
            0,
            1,
            2,
            3,
            4
           ]
          },
          "ggtitle": {
           "text": "filter 0.3"
          },
          "kind": "plot",
          "layers": [
           {
            "geom": "point",
            "mapping": {
             "x": "xIndex",
             "y": "filter 0.3"
            },
            "position": "identity",
            "sampling": "none",
            "stat": "identity"
           },
           {
            "geom": "line",
            "mapping": {
             "x": "xIndex",
             "y": "filter 0.3"
            },
            "position": "identity",
            "sampling": "none",
            "stat": "identity"
           }
          ],
          "mapping": {},
          "scales": [
           {
            "aesthetic": "x",
            "limits": [
             null,
             null
            ]
           },
           {
            "aesthetic": "y",
            "limits": [
             null,
             null
            ]
           },
           {
            "aesthetic": "x",
            "limits": [
             null,
             null
            ]
           },
           {
            "aesthetic": "y",
            "limits": [
             null,
             null
            ]
           }
          ]
         },
         {
          "data": {
           "filter 0.6": [
            1,
            1,
            1.7999999523162842,
            2.27999994277954,
            2.567999948501585
           ],
           "xIndex": [
            0,
            1,
            2,
            3,
            4
           ]
          },
          "ggtitle": {
           "text": "filter 0.6"
          },
          "kind": "plot",
          "layers": [
           {
            "geom": "point",
            "mapping": {
             "x": "xIndex",
             "y": "filter 0.6"
            },
            "position": "identity",
            "sampling": "none",
            "stat": "identity"
           },
           {
            "geom": "line",
            "mapping": {
             "x": "xIndex",
             "y": "filter 0.6"
            },
            "position": "identity",
            "sampling": "none",
            "stat": "identity"
           }
          ],
          "mapping": {},
          "scales": [
           {
            "aesthetic": "x",
            "limits": [
             null,
             null
            ]
           },
           {
            "aesthetic": "y",
            "limits": [
             null,
             null
            ]
           },
           {
            "aesthetic": "x",
            "limits": [
             null,
             null
            ]
           },
           {
            "aesthetic": "y",
            "limits": [
             null,
             null
            ]
           }
          ]
         },
         {
          "data": {
           "filter 0.9": [
            1,
            1,
            1.2000000476837158,
            1.3800000858306873,
            1.5420001158714263
           ],
           "xIndex": [
            0,
            1,
            2,
            3,
            4
           ]
          },
          "ggtitle": {
           "text": "filter 0.9"
          },
          "kind": "plot",
          "layers": [
           {
            "geom": "point",
            "mapping": {
             "x": "xIndex",
             "y": "filter 0.9"
            },
            "position": "identity",
            "sampling": "none",
            "stat": "identity"
           },
           {
            "geom": "line",
            "mapping": {
             "x": "xIndex",
             "y": "filter 0.9"
            },
            "position": "identity",
            "sampling": "none",
            "stat": "identity"
           }
          ],
          "mapping": {},
          "scales": [
           {
            "aesthetic": "x",
            "limits": [
             null,
             null
            ]
           },
           {
            "aesthetic": "y",
            "limits": [
             null,
             null
            ]
           },
           {
            "aesthetic": "x",
            "limits": [
             null,
             null
            ]
           },
           {
            "aesthetic": "y",
            "limits": [
             null,
             null
            ]
           }
          ]
         },
         {
          "data": {
           "filter 0.98": [
            1,
            1,
            1.0399999618530273,
            1.0791999252319329,
            1.1176158900909403
           ],
           "xIndex": [
            0,
            1,
            2,
            3,
            4
           ]
          },
          "ggtitle": {
           "text": "filter 0.98"
          },
          "kind": "plot",
          "layers": [
           {
            "geom": "point",
            "mapping": {
             "x": "xIndex",
             "y": "filter 0.98"
            },
            "position": "identity",
            "sampling": "none",
            "stat": "identity"
           },
           {
            "geom": "line",
            "mapping": {
             "x": "xIndex",
             "y": "filter 0.98"
            },
            "position": "identity",
            "sampling": "none",
            "stat": "identity"
           }
          ],
          "mapping": {},
          "scales": [
           {
            "aesthetic": "x",
            "limits": [
             null,
             null
            ]
           },
           {
            "aesthetic": "y",
            "limits": [
             null,
             null
            ]
           },
           {
            "aesthetic": "x",
            "limits": [
             null,
             null
            ]
           },
           {
            "aesthetic": "y",
            "limits": [
             null,
             null
            ]
           }
          ]
         },
         {
          "data": {
           "filter 1.0": [
            1,
            1,
            1,
            1,
            1
           ],
           "xIndex": [
            0,
            1,
            2,
            3,
            4
           ]
          },
          "ggtitle": {
           "text": "filter 1.0"
          },
          "kind": "plot",
          "layers": [
           {
            "geom": "point",
            "mapping": {
             "x": "xIndex",
             "y": "filter 1.0"
            },
            "position": "identity",
            "sampling": "none",
            "stat": "identity"
           },
           {
            "geom": "line",
            "mapping": {
             "x": "xIndex",
             "y": "filter 1.0"
            },
            "position": "identity",
            "sampling": "none",
            "stat": "identity"
           }
          ],
          "mapping": {},
          "scales": [
           {
            "aesthetic": "x",
            "limits": [
             null,
             null
            ]
           },
           {
            "aesthetic": "y",
            "limits": [
             null,
             null
            ]
           },
           {
            "aesthetic": "x",
            "limits": [
             null,
             null
            ]
           },
           {
            "aesthetic": "y",
            "limits": [
             null,
             null
            ]
           }
          ]
         }
        ],
        "kind": "subplots",
        "layout": {
         "align": false,
         "fit": true,
         "name": "grid",
         "ncol": 3,
         "nrow": 2
        }
       },
       "output_type": "lets_plot_spec",
       "swing_enabled": true
      },
      "text/html": [
       "            <script type=\"text/javascript\" data-lets-plot-script=\"library\" src=\"https://cdn.jsdelivr.net/gh/JetBrains/lets-plot@v3.1.0/js-package/distr/lets-plot.min.js\"></script>    \n",
       "               <div id=\"0ED8BE\"></div>\n",
       "   <script type=\"text/javascript\" data-lets-plot-script=\"plot\">\n",
       "       var plotSpec={\n",
       "\"layout\":{\n",
       "\"name\":\"grid\",\n",
       "\"ncol\":3,\n",
       "\"nrow\":2,\n",
       "\"fit\":true,\n",
       "\"align\":false\n",
       "},\n",
       "\"figures\":[{\n",
       "\"ggtitle\":{\n",
       "\"text\":\"filter 0.0\"\n",
       "},\n",
       "\"mapping\":{\n",
       "},\n",
       "\"data\":{\n",
       "\"xIndex\":[0.0,1.0,2.0,3.0,4.0],\n",
       "\"filter 0.0\":[1.0,1.0,3.0,3.0,3.0]\n",
       "},\n",
       "\"kind\":\"plot\",\n",
       "\"scales\":[{\n",
       "\"aesthetic\":\"x\",\n",
       "\"limits\":[null,null]\n",
       "},{\n",
       "\"aesthetic\":\"y\",\n",
       "\"limits\":[null,null]\n",
       "},{\n",
       "\"aesthetic\":\"x\",\n",
       "\"limits\":[null,null]\n",
       "},{\n",
       "\"aesthetic\":\"y\",\n",
       "\"limits\":[null,null]\n",
       "}],\n",
       "\"layers\":[{\n",
       "\"mapping\":{\n",
       "\"x\":\"xIndex\",\n",
       "\"y\":\"filter 0.0\"\n",
       "},\n",
       "\"stat\":\"identity\",\n",
       "\"sampling\":\"none\",\n",
       "\"position\":\"identity\",\n",
       "\"geom\":\"point\",\n",
       "\"data\":{\n",
       "}\n",
       "},{\n",
       "\"mapping\":{\n",
       "\"x\":\"xIndex\",\n",
       "\"y\":\"filter 0.0\"\n",
       "},\n",
       "\"stat\":\"identity\",\n",
       "\"sampling\":\"none\",\n",
       "\"position\":\"identity\",\n",
       "\"geom\":\"line\",\n",
       "\"data\":{\n",
       "}\n",
       "}]\n",
       "},{\n",
       "\"ggtitle\":{\n",
       "\"text\":\"filter 0.3\"\n",
       "},\n",
       "\"mapping\":{\n",
       "},\n",
       "\"data\":{\n",
       "\"xIndex\":[0.0,1.0,2.0,3.0,4.0],\n",
       "\"filter 0.3\":[1.0,1.0,2.399999976158142,2.819999985694885,2.9459999935626984]\n",
       "},\n",
       "\"kind\":\"plot\",\n",
       "\"scales\":[{\n",
       "\"aesthetic\":\"x\",\n",
       "\"limits\":[null,null]\n",
       "},{\n",
       "\"aesthetic\":\"y\",\n",
       "\"limits\":[null,null]\n",
       "},{\n",
       "\"aesthetic\":\"x\",\n",
       "\"limits\":[null,null]\n",
       "},{\n",
       "\"aesthetic\":\"y\",\n",
       "\"limits\":[null,null]\n",
       "}],\n",
       "\"layers\":[{\n",
       "\"mapping\":{\n",
       "\"x\":\"xIndex\",\n",
       "\"y\":\"filter 0.3\"\n",
       "},\n",
       "\"stat\":\"identity\",\n",
       "\"sampling\":\"none\",\n",
       "\"position\":\"identity\",\n",
       "\"geom\":\"point\",\n",
       "\"data\":{\n",
       "}\n",
       "},{\n",
       "\"mapping\":{\n",
       "\"x\":\"xIndex\",\n",
       "\"y\":\"filter 0.3\"\n",
       "},\n",
       "\"stat\":\"identity\",\n",
       "\"sampling\":\"none\",\n",
       "\"position\":\"identity\",\n",
       "\"geom\":\"line\",\n",
       "\"data\":{\n",
       "}\n",
       "}]\n",
       "},{\n",
       "\"ggtitle\":{\n",
       "\"text\":\"filter 0.6\"\n",
       "},\n",
       "\"mapping\":{\n",
       "},\n",
       "\"data\":{\n",
       "\"filter 0.6\":[1.0,1.0,1.7999999523162842,2.27999994277954,2.567999948501585],\n",
       "\"xIndex\":[0.0,1.0,2.0,3.0,4.0]\n",
       "},\n",
       "\"kind\":\"plot\",\n",
       "\"scales\":[{\n",
       "\"aesthetic\":\"x\",\n",
       "\"limits\":[null,null]\n",
       "},{\n",
       "\"aesthetic\":\"y\",\n",
       "\"limits\":[null,null]\n",
       "},{\n",
       "\"aesthetic\":\"x\",\n",
       "\"limits\":[null,null]\n",
       "},{\n",
       "\"aesthetic\":\"y\",\n",
       "\"limits\":[null,null]\n",
       "}],\n",
       "\"layers\":[{\n",
       "\"mapping\":{\n",
       "\"x\":\"xIndex\",\n",
       "\"y\":\"filter 0.6\"\n",
       "},\n",
       "\"stat\":\"identity\",\n",
       "\"sampling\":\"none\",\n",
       "\"position\":\"identity\",\n",
       "\"geom\":\"point\",\n",
       "\"data\":{\n",
       "}\n",
       "},{\n",
       "\"mapping\":{\n",
       "\"x\":\"xIndex\",\n",
       "\"y\":\"filter 0.6\"\n",
       "},\n",
       "\"stat\":\"identity\",\n",
       "\"sampling\":\"none\",\n",
       "\"position\":\"identity\",\n",
       "\"geom\":\"line\",\n",
       "\"data\":{\n",
       "}\n",
       "}]\n",
       "},{\n",
       "\"ggtitle\":{\n",
       "\"text\":\"filter 0.9\"\n",
       "},\n",
       "\"mapping\":{\n",
       "},\n",
       "\"data\":{\n",
       "\"filter 0.9\":[1.0,1.0,1.2000000476837158,1.3800000858306873,1.5420001158714263],\n",
       "\"xIndex\":[0.0,1.0,2.0,3.0,4.0]\n",
       "},\n",
       "\"kind\":\"plot\",\n",
       "\"scales\":[{\n",
       "\"aesthetic\":\"x\",\n",
       "\"limits\":[null,null]\n",
       "},{\n",
       "\"aesthetic\":\"y\",\n",
       "\"limits\":[null,null]\n",
       "},{\n",
       "\"aesthetic\":\"x\",\n",
       "\"limits\":[null,null]\n",
       "},{\n",
       "\"aesthetic\":\"y\",\n",
       "\"limits\":[null,null]\n",
       "}],\n",
       "\"layers\":[{\n",
       "\"mapping\":{\n",
       "\"x\":\"xIndex\",\n",
       "\"y\":\"filter 0.9\"\n",
       "},\n",
       "\"stat\":\"identity\",\n",
       "\"sampling\":\"none\",\n",
       "\"position\":\"identity\",\n",
       "\"geom\":\"point\",\n",
       "\"data\":{\n",
       "}\n",
       "},{\n",
       "\"mapping\":{\n",
       "\"x\":\"xIndex\",\n",
       "\"y\":\"filter 0.9\"\n",
       "},\n",
       "\"stat\":\"identity\",\n",
       "\"sampling\":\"none\",\n",
       "\"position\":\"identity\",\n",
       "\"geom\":\"line\",\n",
       "\"data\":{\n",
       "}\n",
       "}]\n",
       "},{\n",
       "\"ggtitle\":{\n",
       "\"text\":\"filter 0.98\"\n",
       "},\n",
       "\"mapping\":{\n",
       "},\n",
       "\"data\":{\n",
       "\"xIndex\":[0.0,1.0,2.0,3.0,4.0],\n",
       "\"filter 0.98\":[1.0,1.0,1.0399999618530273,1.0791999252319329,1.1176158900909403]\n",
       "},\n",
       "\"kind\":\"plot\",\n",
       "\"scales\":[{\n",
       "\"aesthetic\":\"x\",\n",
       "\"limits\":[null,null]\n",
       "},{\n",
       "\"aesthetic\":\"y\",\n",
       "\"limits\":[null,null]\n",
       "},{\n",
       "\"aesthetic\":\"x\",\n",
       "\"limits\":[null,null]\n",
       "},{\n",
       "\"aesthetic\":\"y\",\n",
       "\"limits\":[null,null]\n",
       "}],\n",
       "\"layers\":[{\n",
       "\"mapping\":{\n",
       "\"x\":\"xIndex\",\n",
       "\"y\":\"filter 0.98\"\n",
       "},\n",
       "\"stat\":\"identity\",\n",
       "\"sampling\":\"none\",\n",
       "\"position\":\"identity\",\n",
       "\"geom\":\"point\",\n",
       "\"data\":{\n",
       "}\n",
       "},{\n",
       "\"mapping\":{\n",
       "\"x\":\"xIndex\",\n",
       "\"y\":\"filter 0.98\"\n",
       "},\n",
       "\"stat\":\"identity\",\n",
       "\"sampling\":\"none\",\n",
       "\"position\":\"identity\",\n",
       "\"geom\":\"line\",\n",
       "\"data\":{\n",
       "}\n",
       "}]\n",
       "},{\n",
       "\"ggtitle\":{\n",
       "\"text\":\"filter 1.0\"\n",
       "},\n",
       "\"mapping\":{\n",
       "},\n",
       "\"data\":{\n",
       "\"xIndex\":[0.0,1.0,2.0,3.0,4.0],\n",
       "\"filter 1.0\":[1.0,1.0,1.0,1.0,1.0]\n",
       "},\n",
       "\"kind\":\"plot\",\n",
       "\"scales\":[{\n",
       "\"aesthetic\":\"x\",\n",
       "\"limits\":[null,null]\n",
       "},{\n",
       "\"aesthetic\":\"y\",\n",
       "\"limits\":[null,null]\n",
       "},{\n",
       "\"aesthetic\":\"x\",\n",
       "\"limits\":[null,null]\n",
       "},{\n",
       "\"aesthetic\":\"y\",\n",
       "\"limits\":[null,null]\n",
       "}],\n",
       "\"layers\":[{\n",
       "\"mapping\":{\n",
       "\"x\":\"xIndex\",\n",
       "\"y\":\"filter 1.0\"\n",
       "},\n",
       "\"stat\":\"identity\",\n",
       "\"sampling\":\"none\",\n",
       "\"position\":\"identity\",\n",
       "\"geom\":\"point\",\n",
       "\"data\":{\n",
       "}\n",
       "},{\n",
       "\"mapping\":{\n",
       "\"x\":\"xIndex\",\n",
       "\"y\":\"filter 1.0\"\n",
       "},\n",
       "\"stat\":\"identity\",\n",
       "\"sampling\":\"none\",\n",
       "\"position\":\"identity\",\n",
       "\"geom\":\"line\",\n",
       "\"data\":{\n",
       "}\n",
       "}]\n",
       "}],\n",
       "\"kind\":\"subplots\"\n",
       "};\n",
       "       var plotContainer = document.getElementById(\"0ED8BE\");\n",
       "       LetsPlot.buildPlotFromProcessedSpecs(plotSpec, -1, -1, plotContainer);\n",
       "   </script>    "
      ]
     },
     "execution_count": 9,
     "metadata": {},
     "output_type": "execute_result"
    }
   ],
   "source": [
    "val filterResults = listOf(0.0f, 0.3f, 0.6f, 0.9f, 0.98f, 1.0f).map { filter ->\n",
    "    val list = lines.toMutableList();\n",
    "    firFilter(list, 1, filter)\n",
    "    filter to list;\n",
    "}.map { (filter, list) ->\n",
    "    \"filter ${filter}\" to list\n",
    "}.toMap().toMutableMap()\n",
    "\n",
    "val keys = filterResults.keys.toList();\n",
    "val colors = listOf(Color.BLACK, Color.BLUE, Color.GREEN, Color.PURPLE, Color.RED, Color.YELLOW)\n",
    "\n",
    "filterResults[\"xIndex\"] = index3.toMutableList();\n",
    "\n",
    "val filterPlots = keys.mapIndexed {i, key ->\n",
    "    plot(filterResults) {\n",
    "        points {\n",
    "            x(\"xIndex\")\n",
    "            y(key)\n",
    "//             color = colors[i]\n",
    "        }\n",
    "        line {\n",
    "            x(\"xIndex\")\n",
    "            y(key)\n",
    "//             color = colors[i]\n",
    "        }\n",
    "         layout.title = key\n",
    "    }\n",
    "\n",
    "}\n",
    "\n",
    "plotGrid(filterPlots, nCol = 3)"
   ]
  },
  {
   "cell_type": "markdown",
   "id": "5ad2f295",
   "metadata": {},
   "source": [
    "根据上面给出的公式，我们有以下推论：\n",
    "\n",
    "1. 对于给定数组，重复执行`firFilter`将会得到更加平滑的结果。\n",
    "2. `firFilter`执行跟方向有关， 为了得到平滑的结果从左到右和从右到左都要执行\n",
    "\n",
    "下面给出四种情况的结果对比：\n",
    "\n",
    "1. 从左到右执行 1 次\n",
    "1. 从左到右执行 4 次\n",
    "1. 从左到右和从右到左执行 1 次\n",
    "1. 从左到右和从右到左执行 4 次"
   ]
  },
  {
   "cell_type": "code",
   "execution_count": 10,
   "id": "fe0e174a",
   "metadata": {},
   "outputs": [
    {
     "data": {
      "application/plot+json": {
       "apply_color_scheme": true,
       "output": {
        "figures": [
         {
          "data": {
           "index": [
            0,
            1,
            2,
            3,
            4,
            5,
            6,
            7,
            8,
            9,
            10,
            11,
            12,
            13,
            14,
            15,
            16,
            17,
            18,
            19,
            20,
            21,
            22,
            23,
            24,
            25,
            26,
            27,
            28,
            29,
            30,
            31,
            32,
            33,
            34,
            35,
            36,
            37,
            38,
            39,
            40,
            41,
            42,
            43,
            44,
            45,
            46,
            47,
            48,
            49,
            50,
            51,
            52,
            53,
            54,
            55,
            56,
            57,
            58,
            59,
            60,
            61,
            62,
            63
           ],
           "points": [
            47,
            47,
            47,
            47,
            47,
            49.799999833106995,
            51.47999979972839,
            52.487999819755544,
            53.09279985580443,
            53.45567989185332,
            53.67340792213439,
            53.80404474549407,
            53.882426842624504,
            51.529456245822686,
            50.117673831642406,
            53.270604111056144,
            55.162362353876105,
            56.29741734467111,
            56.978450366209934,
            57.38707019537032,
            53.632242341027386,
            53.37934541969026,
            53.227607260858456,
            53.13656436194165,
            53.08193862042094,
            53.049163174206136,
            53.02949790569582,
            53.01769874412078,
            53.010619246894436,
            53.00637154838984,
            53.003822929185816,
            48.60229401986307,
            45.9613765693288,
            44.37682603604385,
            43.42609567829426,
            42.855657440977325,
            47.71339417504271,
            50.628036331299406,
            52.37682169454391,
            56.62609276345003,
            59.17565550610423,
            60.70539321248306,
            61.623235872782146,
            62.173941490844676,
            62.10436489865389,
            56.86261925162474,
            57.31757152385757,
            58.79054282651861,
            59.6743256432336,
            60.20459535433362,
            60.522757193636245,
            60.71365430480339,
            60.828192576055024,
            60.896915541536806,
            60.93814932246436,
            60.96288959200398,
            60.97773375431761,
            60.9866402520597,
            60.9919841509173,
            56.5951907526197,
            53.95711460881342,
            52.37426885963302,
            51.42456137238679,
            49.654736928921835
           ]
          },
          "kind": "plot",
          "layers": [
           {
            "color": "#5470c6",
            "geom": "line",
            "mapping": {
             "x": "index",
             "y": "points"
            },
            "position": "identity",
            "sampling": "none",
            "stat": "identity"
           },
           {
            "color": "#5470c6",
            "geom": "point",
            "mapping": {
             "x": "index",
             "y": "points"
            },
            "position": "identity",
            "sampling": "none",
            "stat": "identity"
           }
          ],
          "mapping": {},
          "scales": [
           {
            "aesthetic": "x",
            "limits": [
             null,
             null
            ]
           },
           {
            "aesthetic": "y",
            "limits": [
             null,
             null
            ]
           },
           {
            "aesthetic": "x",
            "limits": [
             null,
             null
            ]
           },
           {
            "aesthetic": "y",
            "limits": [
             null,
             null
            ]
           }
          ]
         },
         {
          "data": {
           "index": [
            0,
            1,
            2,
            3,
            4,
            5,
            6,
            7,
            8,
            9,
            10,
            11,
            12,
            13,
            14,
            15,
            16,
            17,
            18,
            19,
            20,
            21,
            22,
            23,
            24,
            25,
            26,
            27,
            28,
            29,
            30,
            31,
            32,
            33,
            34,
            35,
            36,
            37,
            38,
            39,
            40,
            41,
            42,
            43,
            44,
            45,
            46,
            47,
            48,
            49,
            50,
            51,
            52,
            53,
            54,
            55,
            56,
            57,
            58,
            59,
            60,
            61,
            62,
            63
           ],
           "points": [
            47,
            47,
            47,
            47,
            47,
            47.179199957275394,
            47.609279871826175,
            48.25439976928712,
            49.02854367700196,
            49.84139481240235,
            50.62173193339453,
            51.324035370194515,
            51.926009768514824,
            52.269038703484426,
            52.297701911192824,
            52.31063839524613,
            52.49813456535928,
            52.90049104111009,
            53.468617232898495,
            54.12335023237007,
            54.5348934117701,
            54.67508934048422,
            54.61468645743815,
            54.43761624144905,
            54.2109112362578,
            53.978933406688704,
            53.766708973764096,
            53.58551762200121,
            53.438015276740515,
            53.32208538454476,
            53.233413667596025,
            52.885450554068214,
            52.16082284043461,
            51.11172878740001,
            49.869950636322756,
            48.574743897423055,
            47.66878293742828,
            47.35518948585599,
            47.601316719431026,
            48.4592924211788,
            49.83326710504373,
            51.530874487238265,
            53.34673981353244,
            55.1139051326131,
            56.69589846226322,
            57.691703168316074,
            58.186423473271915,
            58.43743163602288,
            58.62660430741789,
            58.83682314619543,
            59.08549069337934,
            59.359134646995926,
            59.63587053341462,
            59.89657012096808,
            60.12870067866116,
            60.32633845773778,
            60.48864659582195,
            60.61806265980894,
            60.71875055601548,
            60.51388325100691,
            59.89549618093341,
            58.9241025959037,
            57.73841955065447,
            56.40645477242008
           ]
          },
          "kind": "plot",
          "layers": [
           {
            "color": "#3ba272",
            "geom": "line",
            "mapping": {
             "x": "index",
             "y": "points"
            },
            "position": "identity",
            "sampling": "none",
            "stat": "identity"
           },
           {
            "color": "#3ba272",
            "geom": "point",
            "mapping": {
             "x": "index",
             "y": "points"
            },
            "position": "identity",
            "sampling": "none",
            "stat": "identity"
           }
          ],
          "mapping": {},
          "scales": [
           {
            "aesthetic": "x",
            "limits": [
             null,
             null
            ]
           },
           {
            "aesthetic": "y",
            "limits": [
             null,
             null
            ]
           },
           {
            "aesthetic": "x",
            "limits": [
             null,
             null
            ]
           },
           {
            "aesthetic": "y",
            "limits": [
             null,
             null
            ]
           }
          ]
         },
         {
          "data": {
           "index": [
            0,
            1,
            2,
            3,
            4,
            5,
            6,
            7,
            8,
            9,
            10,
            11,
            12,
            13,
            14,
            15,
            16,
            17,
            18,
            19,
            20,
            21,
            22,
            23,
            24,
            25,
            26,
            27,
            28,
            29,
            30,
            31,
            32,
            33,
            34,
            35,
            36,
            37,
            38,
            39,
            40,
            41,
            42,
            43,
            44,
            45,
            46,
            47,
            48,
            49,
            50,
            51,
            52,
            53,
            54,
            55,
            56,
            57,
            58,
            59,
            60,
            61,
            62,
            63
           ],
           "points": [
            47.3380801830978,
            47.56346694943951,
            47.93911154508224,
            48.56518584627551,
            49.608642973467695,
            51.347738116349234,
            52.37956353600807,
            52.97927263395211,
            53.30678781088078,
            53.44944643342649,
            53.44529079488808,
            53.29321272516481,
            52.95265807877637,
            52.3328122977871,
            52.86838294589254,
            54.70218883988704,
            55.65657856429754,
            55.98605600518119,
            55.77848179947523,
            54.9785028344562,
            53.37279142002656,
            53.19982415654209,
            53.08014332633253,
            52.98183404641473,
            52.87868051297751,
            52.74317512147648,
            52.53918310658817,
            52.21230660632199,
            51.675378567795136,
            50.785218203491766,
            49.30444945399421,
            46.838200715532956,
            45.66213862947749,
            45.46264668939436,
            46.18652705305032,
            48.02681445340488,
            51.474252119217745,
            53.981490499596,
            56.21712638970324,
            58.77732926547615,
            60.21148679102279,
            60.902040912368115,
            61.03313936593469,
            60.639741733783595,
            59.61694199734892,
            57.9586602278811,
            58.68935413946407,
            59.60387579235217,
            60.14609771570963,
            60.46061239944942,
            60.63129041257127,
            60.703645884673406,
            60.69697360524959,
            60.609494300069585,
            60.4178801581266,
            60.07103408302416,
            59.47646380276953,
            58.47561726782931,
            56.80160211130753,
            54.00801436241905,
            52.2832302736272,
            51.16730749436002,
            50.36266666411191,
            49.654736928921835
           ]
          },
          "kind": "plot",
          "layers": [
           {
            "color": "#9a60b4",
            "geom": "line",
            "mapping": {
             "x": "index",
             "y": "points"
            },
            "position": "identity",
            "sampling": "none",
            "stat": "identity"
           },
           {
            "color": "#9a60b4",
            "geom": "point",
            "mapping": {
             "x": "index",
             "y": "points"
            },
            "position": "identity",
            "sampling": "none",
            "stat": "identity"
           }
          ],
          "mapping": {},
          "scales": [
           {
            "aesthetic": "x",
            "limits": [
             null,
             null
            ]
           },
           {
            "aesthetic": "y",
            "limits": [
             null,
             null
            ]
           },
           {
            "aesthetic": "x",
            "limits": [
             null,
             null
            ]
           },
           {
            "aesthetic": "y",
            "limits": [
             null,
             null
            ]
           }
          ]
         },
         {
          "data": {
           "index": [
            0,
            1,
            2,
            3,
            4,
            5,
            6,
            7,
            8,
            9,
            10,
            11,
            12,
            13,
            14,
            15,
            16,
            17,
            18,
            19,
            20,
            21,
            22,
            23,
            24,
            25,
            26,
            27,
            28,
            29,
            30,
            31,
            32,
            33,
            34,
            35,
            36,
            37,
            38,
            39,
            40,
            41,
            42,
            43,
            44,
            45,
            46,
            47,
            48,
            49,
            50,
            51,
            52,
            53,
            54,
            55,
            56,
            57,
            58,
            59,
            60,
            61,
            62,
            63
           ],
           "points": [
            48.656571783488275,
            48.921264269095985,
            49.28164563700391,
            49.7213405864307,
            50.21605913924548,
            50.734075603671215,
            51.24094471208814,
            51.708590283707466,
            52.120230403808534,
            52.47111412329315,
            52.76673486421163,
            53.01970004881501,
            53.24552928902661,
            53.45701475155627,
            53.657001958542224,
            53.83182698199788,
            53.95531723998927,
            54.00310784802315,
            53.962850909503175,
            53.83792670839967,
            53.64491836046839,
            53.405281346924454,
            53.13380686071555,
            52.83686149916249,
            52.51457534841285,
            52.16449226389154,
            51.78580809207882,
            51.38395598611743,
            50.97530959294275,
            50.591294909417925,
            50.28028548933411,
            50.10452555503187,
            50.1288978323589,
            50.40145370740903,
            50.93972262277805,
            51.72436105449131,
            52.70027205968816,
            53.78669790886325,
            54.89609569516617,
            55.94725726977082,
            56.87490246157407,
            57.63938775407166,
            58.229607911094604,
            58.66026416241296,
            58.965084567725995,
            59.186142893445435,
            59.35916228376167,
            59.49924653030587,
            59.603640862573656,
            59.65993359365841,
            59.65216200017424,
            59.56405246079419,
            59.38049569273878,
            59.088525048330915,
            58.67876093075233,
            58.147888826308254,
            57.50227659887196,
            56.762195209699456,
            55.965171283620236,
            55.165861197678055,
            54.42928516317498,
            53.81697888851001,
            53.37893057627001,
            53.15046458344992
           ]
          },
          "kind": "plot",
          "layers": [
           {
            "color": "#ee6666",
            "geom": "line",
            "mapping": {
             "x": "index",
             "y": "points"
            },
            "position": "identity",
            "sampling": "none",
            "stat": "identity"
           },
           {
            "color": "#ee6666",
            "geom": "point",
            "mapping": {
             "x": "index",
             "y": "points"
            },
            "position": "identity",
            "sampling": "none",
            "stat": "identity"
           }
          ],
          "mapping": {},
          "scales": [
           {
            "aesthetic": "x",
            "limits": [
             null,
             null
            ]
           },
           {
            "aesthetic": "y",
            "limits": [
             null,
             null
            ]
           },
           {
            "aesthetic": "x",
            "limits": [
             null,
             null
            ]
           },
           {
            "aesthetic": "y",
            "limits": [
             null,
             null
            ]
           }
          ]
         }
        ],
        "kind": "subplots",
        "layout": {
         "align": false,
         "fit": true,
         "name": "grid",
         "ncol": 2,
         "nrow": 2
        }
       },
       "output_type": "lets_plot_spec",
       "swing_enabled": true
      },
      "text/html": [
       "            <script type=\"text/javascript\" data-lets-plot-script=\"library\" src=\"https://cdn.jsdelivr.net/gh/JetBrains/lets-plot@v3.1.0/js-package/distr/lets-plot.min.js\"></script>    \n",
       "               <div id=\"ZRx3qU\"></div>\n",
       "   <script type=\"text/javascript\" data-lets-plot-script=\"plot\">\n",
       "       var plotSpec={\n",
       "\"layout\":{\n",
       "\"name\":\"grid\",\n",
       "\"ncol\":2,\n",
       "\"nrow\":2,\n",
       "\"fit\":true,\n",
       "\"align\":false\n",
       "},\n",
       "\"figures\":[{\n",
       "\"layers\":[{\n",
       "\"mapping\":{\n",
       "\"x\":\"index\",\n",
       "\"y\":\"points\"\n",
       "},\n",
       "\"stat\":\"identity\",\n",
       "\"color\":\"#5470c6\",\n",
       "\"sampling\":\"none\",\n",
       "\"position\":\"identity\",\n",
       "\"geom\":\"line\",\n",
       "\"data\":{\n",
       "}\n",
       "},{\n",
       "\"mapping\":{\n",
       "\"x\":\"index\",\n",
       "\"y\":\"points\"\n",
       "},\n",
       "\"stat\":\"identity\",\n",
       "\"color\":\"#5470c6\",\n",
       "\"sampling\":\"none\",\n",
       "\"position\":\"identity\",\n",
       "\"geom\":\"point\",\n",
       "\"data\":{\n",
       "}\n",
       "}],\n",
       "\"mapping\":{\n",
       "},\n",
       "\"data\":{\n",
       "\"index\":[0.0,1.0,2.0,3.0,4.0,5.0,6.0,7.0,8.0,9.0,10.0,11.0,12.0,13.0,14.0,15.0,16.0,17.0,18.0,19.0,20.0,21.0,22.0,23.0,24.0,25.0,26.0,27.0,28.0,29.0,30.0,31.0,32.0,33.0,34.0,35.0,36.0,37.0,38.0,39.0,40.0,41.0,42.0,43.0,44.0,45.0,46.0,47.0,48.0,49.0,50.0,51.0,52.0,53.0,54.0,55.0,56.0,57.0,58.0,59.0,60.0,61.0,62.0,63.0],\n",
       "\"points\":[47.0,47.0,47.0,47.0,47.0,49.799999833106995,51.47999979972839,52.487999819755544,53.09279985580443,53.45567989185332,53.67340792213439,53.80404474549407,53.882426842624504,51.529456245822686,50.117673831642406,53.270604111056144,55.162362353876105,56.29741734467111,56.978450366209934,57.38707019537032,53.632242341027386,53.37934541969026,53.227607260858456,53.13656436194165,53.08193862042094,53.049163174206136,53.02949790569582,53.01769874412078,53.010619246894436,53.00637154838984,53.003822929185816,48.60229401986307,45.9613765693288,44.37682603604385,43.42609567829426,42.855657440977325,47.71339417504271,50.628036331299406,52.37682169454391,56.62609276345003,59.17565550610423,60.70539321248306,61.623235872782146,62.173941490844676,62.10436489865389,56.86261925162474,57.31757152385757,58.79054282651861,59.6743256432336,60.20459535433362,60.522757193636245,60.71365430480339,60.828192576055024,60.896915541536806,60.93814932246436,60.96288959200398,60.97773375431761,60.9866402520597,60.9919841509173,56.5951907526197,53.95711460881342,52.37426885963302,51.42456137238679,49.654736928921835]\n",
       "},\n",
       "\"kind\":\"plot\",\n",
       "\"scales\":[{\n",
       "\"aesthetic\":\"x\",\n",
       "\"limits\":[null,null]\n",
       "},{\n",
       "\"aesthetic\":\"y\",\n",
       "\"limits\":[null,null]\n",
       "},{\n",
       "\"aesthetic\":\"x\",\n",
       "\"limits\":[null,null]\n",
       "},{\n",
       "\"aesthetic\":\"y\",\n",
       "\"limits\":[null,null]\n",
       "}]\n",
       "},{\n",
       "\"layers\":[{\n",
       "\"mapping\":{\n",
       "\"x\":\"index\",\n",
       "\"y\":\"points\"\n",
       "},\n",
       "\"stat\":\"identity\",\n",
       "\"color\":\"#3ba272\",\n",
       "\"sampling\":\"none\",\n",
       "\"position\":\"identity\",\n",
       "\"geom\":\"line\",\n",
       "\"data\":{\n",
       "}\n",
       "},{\n",
       "\"mapping\":{\n",
       "\"x\":\"index\",\n",
       "\"y\":\"points\"\n",
       "},\n",
       "\"stat\":\"identity\",\n",
       "\"color\":\"#3ba272\",\n",
       "\"sampling\":\"none\",\n",
       "\"position\":\"identity\",\n",
       "\"geom\":\"point\",\n",
       "\"data\":{\n",
       "}\n",
       "}],\n",
       "\"mapping\":{\n",
       "},\n",
       "\"data\":{\n",
       "\"index\":[0.0,1.0,2.0,3.0,4.0,5.0,6.0,7.0,8.0,9.0,10.0,11.0,12.0,13.0,14.0,15.0,16.0,17.0,18.0,19.0,20.0,21.0,22.0,23.0,24.0,25.0,26.0,27.0,28.0,29.0,30.0,31.0,32.0,33.0,34.0,35.0,36.0,37.0,38.0,39.0,40.0,41.0,42.0,43.0,44.0,45.0,46.0,47.0,48.0,49.0,50.0,51.0,52.0,53.0,54.0,55.0,56.0,57.0,58.0,59.0,60.0,61.0,62.0,63.0],\n",
       "\"points\":[47.0,47.0,47.0,47.0,47.0,47.179199957275394,47.609279871826175,48.25439976928712,49.02854367700196,49.84139481240235,50.62173193339453,51.324035370194515,51.926009768514824,52.269038703484426,52.297701911192824,52.31063839524613,52.49813456535928,52.90049104111009,53.468617232898495,54.12335023237007,54.5348934117701,54.67508934048422,54.61468645743815,54.43761624144905,54.2109112362578,53.978933406688704,53.766708973764096,53.58551762200121,53.438015276740515,53.32208538454476,53.233413667596025,52.885450554068214,52.16082284043461,51.11172878740001,49.869950636322756,48.574743897423055,47.66878293742828,47.35518948585599,47.601316719431026,48.4592924211788,49.83326710504373,51.530874487238265,53.34673981353244,55.1139051326131,56.69589846226322,57.691703168316074,58.186423473271915,58.43743163602288,58.62660430741789,58.83682314619543,59.08549069337934,59.359134646995926,59.63587053341462,59.89657012096808,60.12870067866116,60.32633845773778,60.48864659582195,60.61806265980894,60.71875055601548,60.51388325100691,59.89549618093341,58.9241025959037,57.73841955065447,56.40645477242008]\n",
       "},\n",
       "\"kind\":\"plot\",\n",
       "\"scales\":[{\n",
       "\"aesthetic\":\"x\",\n",
       "\"limits\":[null,null]\n",
       "},{\n",
       "\"aesthetic\":\"y\",\n",
       "\"limits\":[null,null]\n",
       "},{\n",
       "\"aesthetic\":\"x\",\n",
       "\"limits\":[null,null]\n",
       "},{\n",
       "\"aesthetic\":\"y\",\n",
       "\"limits\":[null,null]\n",
       "}]\n",
       "},{\n",
       "\"layers\":[{\n",
       "\"mapping\":{\n",
       "\"x\":\"index\",\n",
       "\"y\":\"points\"\n",
       "},\n",
       "\"stat\":\"identity\",\n",
       "\"color\":\"#9a60b4\",\n",
       "\"sampling\":\"none\",\n",
       "\"position\":\"identity\",\n",
       "\"geom\":\"line\",\n",
       "\"data\":{\n",
       "}\n",
       "},{\n",
       "\"mapping\":{\n",
       "\"x\":\"index\",\n",
       "\"y\":\"points\"\n",
       "},\n",
       "\"stat\":\"identity\",\n",
       "\"color\":\"#9a60b4\",\n",
       "\"sampling\":\"none\",\n",
       "\"position\":\"identity\",\n",
       "\"geom\":\"point\",\n",
       "\"data\":{\n",
       "}\n",
       "}],\n",
       "\"mapping\":{\n",
       "},\n",
       "\"data\":{\n",
       "\"index\":[0.0,1.0,2.0,3.0,4.0,5.0,6.0,7.0,8.0,9.0,10.0,11.0,12.0,13.0,14.0,15.0,16.0,17.0,18.0,19.0,20.0,21.0,22.0,23.0,24.0,25.0,26.0,27.0,28.0,29.0,30.0,31.0,32.0,33.0,34.0,35.0,36.0,37.0,38.0,39.0,40.0,41.0,42.0,43.0,44.0,45.0,46.0,47.0,48.0,49.0,50.0,51.0,52.0,53.0,54.0,55.0,56.0,57.0,58.0,59.0,60.0,61.0,62.0,63.0],\n",
       "\"points\":[47.3380801830978,47.56346694943951,47.93911154508224,48.56518584627551,49.608642973467695,51.347738116349234,52.37956353600807,52.97927263395211,53.30678781088078,53.44944643342649,53.44529079488808,53.29321272516481,52.95265807877637,52.3328122977871,52.86838294589254,54.70218883988704,55.65657856429754,55.98605600518119,55.77848179947523,54.9785028344562,53.37279142002656,53.19982415654209,53.08014332633253,52.98183404641473,52.87868051297751,52.74317512147648,52.53918310658817,52.21230660632199,51.675378567795136,50.785218203491766,49.30444945399421,46.838200715532956,45.66213862947749,45.46264668939436,46.18652705305032,48.02681445340488,51.474252119217745,53.981490499596,56.21712638970324,58.77732926547615,60.21148679102279,60.902040912368115,61.03313936593469,60.639741733783595,59.61694199734892,57.9586602278811,58.68935413946407,59.60387579235217,60.14609771570963,60.46061239944942,60.63129041257127,60.703645884673406,60.69697360524959,60.609494300069585,60.4178801581266,60.07103408302416,59.47646380276953,58.47561726782931,56.80160211130753,54.00801436241905,52.2832302736272,51.16730749436002,50.36266666411191,49.654736928921835]\n",
       "},\n",
       "\"kind\":\"plot\",\n",
       "\"scales\":[{\n",
       "\"aesthetic\":\"x\",\n",
       "\"limits\":[null,null]\n",
       "},{\n",
       "\"aesthetic\":\"y\",\n",
       "\"limits\":[null,null]\n",
       "},{\n",
       "\"aesthetic\":\"x\",\n",
       "\"limits\":[null,null]\n",
       "},{\n",
       "\"aesthetic\":\"y\",\n",
       "\"limits\":[null,null]\n",
       "}]\n",
       "},{\n",
       "\"layers\":[{\n",
       "\"mapping\":{\n",
       "\"x\":\"index\",\n",
       "\"y\":\"points\"\n",
       "},\n",
       "\"stat\":\"identity\",\n",
       "\"color\":\"#ee6666\",\n",
       "\"sampling\":\"none\",\n",
       "\"position\":\"identity\",\n",
       "\"geom\":\"line\",\n",
       "\"data\":{\n",
       "}\n",
       "},{\n",
       "\"mapping\":{\n",
       "\"x\":\"index\",\n",
       "\"y\":\"points\"\n",
       "},\n",
       "\"stat\":\"identity\",\n",
       "\"color\":\"#ee6666\",\n",
       "\"sampling\":\"none\",\n",
       "\"position\":\"identity\",\n",
       "\"geom\":\"point\",\n",
       "\"data\":{\n",
       "}\n",
       "}],\n",
       "\"mapping\":{\n",
       "},\n",
       "\"data\":{\n",
       "\"index\":[0.0,1.0,2.0,3.0,4.0,5.0,6.0,7.0,8.0,9.0,10.0,11.0,12.0,13.0,14.0,15.0,16.0,17.0,18.0,19.0,20.0,21.0,22.0,23.0,24.0,25.0,26.0,27.0,28.0,29.0,30.0,31.0,32.0,33.0,34.0,35.0,36.0,37.0,38.0,39.0,40.0,41.0,42.0,43.0,44.0,45.0,46.0,47.0,48.0,49.0,50.0,51.0,52.0,53.0,54.0,55.0,56.0,57.0,58.0,59.0,60.0,61.0,62.0,63.0],\n",
       "\"points\":[48.656571783488275,48.921264269095985,49.28164563700391,49.7213405864307,50.21605913924548,50.734075603671215,51.24094471208814,51.708590283707466,52.120230403808534,52.47111412329315,52.76673486421163,53.01970004881501,53.24552928902661,53.45701475155627,53.657001958542224,53.83182698199788,53.95531723998927,54.00310784802315,53.962850909503175,53.83792670839967,53.64491836046839,53.405281346924454,53.13380686071555,52.83686149916249,52.51457534841285,52.16449226389154,51.78580809207882,51.38395598611743,50.97530959294275,50.591294909417925,50.28028548933411,50.10452555503187,50.1288978323589,50.40145370740903,50.93972262277805,51.72436105449131,52.70027205968816,53.78669790886325,54.89609569516617,55.94725726977082,56.87490246157407,57.63938775407166,58.229607911094604,58.66026416241296,58.965084567725995,59.186142893445435,59.35916228376167,59.49924653030587,59.603640862573656,59.65993359365841,59.65216200017424,59.56405246079419,59.38049569273878,59.088525048330915,58.67876093075233,58.147888826308254,57.50227659887196,56.762195209699456,55.965171283620236,55.165861197678055,54.42928516317498,53.81697888851001,53.37893057627001,53.15046458344992]\n",
       "},\n",
       "\"kind\":\"plot\",\n",
       "\"scales\":[{\n",
       "\"aesthetic\":\"x\",\n",
       "\"limits\":[null,null]\n",
       "},{\n",
       "\"aesthetic\":\"y\",\n",
       "\"limits\":[null,null]\n",
       "},{\n",
       "\"aesthetic\":\"x\",\n",
       "\"limits\":[null,null]\n",
       "},{\n",
       "\"aesthetic\":\"y\",\n",
       "\"limits\":[null,null]\n",
       "}]\n",
       "}],\n",
       "\"kind\":\"subplots\"\n",
       "};\n",
       "       var plotContainer = document.getElementById(\"ZRx3qU\");\n",
       "       LetsPlot.buildPlotFromProcessedSpecs(plotSpec, -1, -1, plotContainer);\n",
       "   </script>    "
      ]
     },
     "execution_count": 10,
     "metadata": {},
     "output_type": "execute_result"
    }
   ],
   "source": [
    "// left to right\n",
    "val oneTimes = samples.toMutableList()\n",
    "firFilter(oneTimes, 1, 0.6f)\n",
    "\n",
    "// left to right 4 time\n",
    "val fourTimes = samples.toMutableList()\n",
    "repeat(4) {\n",
    "    firFilter(fourTimes,1, 0.6f)\n",
    "}\n",
    "\n",
    "// left to right and right to left\n",
    "var towDirection = samples.toMutableList()\n",
    "firFilter(towDirection, 1, 0.6f)\n",
    "firFilter(towDirection, -1, 0.6f)\n",
    "\n",
    "// left to right and right to left 4 times\n",
    "var towDirectionFourTime = samples.toMutableList()\n",
    "repeat(4) {\n",
    "    firFilter(towDirectionFourTime, 1, 0.6f)\n",
    "    firFilter(towDirectionFourTime, -1, 0.6f)\n",
    "}\n",
    "\n",
    "val plotList = listOf(\n",
    "    oneTimes to Color.BLUE,\n",
    "    fourTimes to Color.GREEN,\n",
    "    towDirection to Color.PURPLE,\n",
    "    towDirectionFourTime to Color.RED,\n",
    ").map {(list, c) ->\n",
    "    plot(mapOf(\n",
    "        \"points\" to list,\n",
    "        \"index\" to gIndex,\n",
    "    )) {\n",
    "        line {\n",
    "            x(\"index\")\n",
    "            y(\"points\")\n",
    "            color = c\n",
    "        }\n",
    "        points {\n",
    "            x(\"index\")\n",
    "            y(\"points\")\n",
    "            color = c\n",
    "        }\n",
    "    }\n",
    "}\n",
    "\n",
    "plotGrid(plotList, nCol = 2)"
   ]
  },
  {
   "cell_type": "markdown",
   "id": "1059ac09",
   "metadata": {},
   "source": [
    "”从左到右和从右到左执行 4 次“得到结果最好"
   ]
  },
  {
   "cell_type": "code",
   "execution_count": null,
   "id": "c6a7b253",
   "metadata": {},
   "outputs": [],
   "source": []
  }
 ],
 "metadata": {
  "kernelspec": {
   "display_name": "Kotlin",
   "language": "kotlin",
   "name": "kotlin"
  },
  "language_info": {
   "codemirror_mode": "text/x-kotlin",
   "file_extension": ".kt",
   "mimetype": "text/x-kotlin",
   "name": "kotlin",
   "nbconvert_exporter": "",
   "pygments_lexer": "kotlin",
   "version": "1.9.23"
  }
 },
 "nbformat": 4,
 "nbformat_minor": 5
}
